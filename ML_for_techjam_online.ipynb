{
 "cells": [
  {
   "cell_type": "code",
   "execution_count": 1,
   "metadata": {},
   "outputs": [],
   "source": [
    ">>> from sklearn.model_selection import cross_val_score\n",
    ">>> from sklearn.datasets import make_blobs\n",
    ">>> from sklearn.ensemble import RandomForestClassifier\n",
    ">>> from sklearn.ensemble import ExtraTreesClassifier\n",
    ">>> from sklearn.tree import DecisionTreeClassifier"
   ]
  },
  {
   "cell_type": "code",
   "execution_count": 2,
   "metadata": {},
   "outputs": [],
   "source": [
    "X, y = make_blobs(n_samples=10000, n_features=10, centers=100,random_state=0)"
   ]
  },
  {
   "cell_type": "code",
   "execution_count": 6,
   "metadata": {},
   "outputs": [
    {
     "data": {
      "text/plain": [
       "array([[  6.46907649,   4.25070317,  -8.63694437, ...,  -0.48172814,\n",
       "         -6.44996141,  -2.65984972],\n",
       "       [  6.48856404,   9.37957037,  10.32791736, ...,   3.37542134,\n",
       "          7.41273719,  -9.72284371],\n",
       "       [  8.37392753, -10.14342267,  -3.52753613, ...,  -7.31536045,\n",
       "         -2.33070872,   6.44087163],\n",
       "       ...,\n",
       "       [  7.86551596,   6.19525794,   4.773955  , ...,   4.93452091,\n",
       "         -4.52137856,   6.28178851],\n",
       "       [-10.41156442,   1.40054826,  -1.97349572, ...,  -3.18210433,\n",
       "          7.59487579,   4.62753678],\n",
       "       [  7.40908901,  -7.3908382 ,  10.78350645, ...,  -3.26219501,\n",
       "          5.73727272,  -4.97354916]])"
      ]
     },
     "execution_count": 6,
     "metadata": {},
     "output_type": "execute_result"
    }
   ],
   "source": [
    "X"
   ]
  },
  {
   "cell_type": "code",
   "execution_count": 5,
   "metadata": {},
   "outputs": [
    {
     "data": {
      "text/plain": [
       "array([85, 64, 93, ..., 98, 80, 91])"
      ]
     },
     "execution_count": 5,
     "metadata": {},
     "output_type": "execute_result"
    }
   ],
   "source": [
    "y"
   ]
  },
  {
   "cell_type": "code",
   "execution_count": 7,
   "metadata": {},
   "outputs": [],
   "source": [
    "clf = DecisionTreeClassifier(max_depth=None, min_samples_split=2,random_state=0)"
   ]
  },
  {
   "cell_type": "code",
   "execution_count": 8,
   "metadata": {},
   "outputs": [
    {
     "data": {
      "text/plain": [
       "array([0.97852941, 0.98212121, 0.97757576])"
      ]
     },
     "execution_count": 8,
     "metadata": {},
     "output_type": "execute_result"
    }
   ],
   "source": [
    "scores = cross_val_score(clf, X, y)\n",
    "scores"
   ]
  },
  {
   "cell_type": "code",
   "execution_count": 9,
   "metadata": {},
   "outputs": [
    {
     "data": {
      "text/plain": [
       "DecisionTreeClassifier(class_weight=None, criterion='gini', max_depth=None,\n",
       "            max_features=None, max_leaf_nodes=None,\n",
       "            min_impurity_decrease=0.0, min_impurity_split=None,\n",
       "            min_samples_leaf=1, min_samples_split=2,\n",
       "            min_weight_fraction_leaf=0.0, presort=False, random_state=0,\n",
       "            splitter='best')"
      ]
     },
     "execution_count": 9,
     "metadata": {},
     "output_type": "execute_result"
    }
   ],
   "source": [
    "clf.fit(X,y)"
   ]
  },
  {
   "cell_type": "code",
   "execution_count": 10,
   "metadata": {},
   "outputs": [
    {
     "data": {
      "text/plain": [
       "array([0.97852941, 0.98212121, 0.97757576])"
      ]
     },
     "execution_count": 10,
     "metadata": {},
     "output_type": "execute_result"
    }
   ],
   "source": [
    "scores = cross_val_score(clf, X, y)\n",
    "scores"
   ]
  },
  {
   "cell_type": "code",
   "execution_count": 14,
   "metadata": {},
   "outputs": [],
   "source": [
    "import scipy.stats as st\n",
    "from sklearn.model_selection import RandomizedSearchCV\n",
    "from xgboost import XGBClassifier"
   ]
  },
  {
   "cell_type": "code",
   "execution_count": 15,
   "metadata": {},
   "outputs": [],
   "source": [
    "estimator = XGBClassifier(nthreads=-1)\n",
    "params = {  \n",
    "            \"n_estimators\": st.randint(3, 40),\n",
    "            \"max_depth\": st.randint(3, 40),\n",
    "            \"learning_rate\": st.uniform(0.05, 0.4),\n",
    "            \"colsample_bytree\": st.beta(, 1),\n",
    "            \"subsample\": st.beta(10, 1),\n",
    "            \"gamma\": st.uniform(0, 10),\n",
    "            'objective': ['binary:logistic'],\n",
    "            'scale_pos_weight': st.randint(0, 2),\n",
    "            \"min_child_weight\": st.expon(0, 50),\n",
    "        }\n",
    "\n",
    "# Random Search Training with 5 folds Cross Validation\n",
    "clf = RandomizedSearchCV(estimator, params, cv=5,\n",
    "                         n_jobs=1, n_iter=2) "
   ]
  },
  {
   "cell_type": "code",
   "execution_count": 16,
   "metadata": {
    "scrolled": true
   },
   "outputs": [
    {
     "name": "stderr",
     "output_type": "stream",
     "text": [
      "D:\\Anaconda3\\lib\\site-packages\\sklearn\\preprocessing\\label.py:151: DeprecationWarning: The truth value of an empty array is ambiguous. Returning False, but in future this will result in an error. Use `array.size > 0` to check that an array is not empty.\n",
      "  if diff:\n",
      "D:\\Anaconda3\\lib\\site-packages\\sklearn\\preprocessing\\label.py:151: DeprecationWarning: The truth value of an empty array is ambiguous. Returning False, but in future this will result in an error. Use `array.size > 0` to check that an array is not empty.\n",
      "  if diff:\n",
      "D:\\Anaconda3\\lib\\site-packages\\sklearn\\preprocessing\\label.py:151: DeprecationWarning: The truth value of an empty array is ambiguous. Returning False, but in future this will result in an error. Use `array.size > 0` to check that an array is not empty.\n",
      "  if diff:\n",
      "D:\\Anaconda3\\lib\\site-packages\\sklearn\\preprocessing\\label.py:151: DeprecationWarning: The truth value of an empty array is ambiguous. Returning False, but in future this will result in an error. Use `array.size > 0` to check that an array is not empty.\n",
      "  if diff:\n",
      "D:\\Anaconda3\\lib\\site-packages\\sklearn\\preprocessing\\label.py:151: DeprecationWarning: The truth value of an empty array is ambiguous. Returning False, but in future this will result in an error. Use `array.size > 0` to check that an array is not empty.\n",
      "  if diff:\n",
      "D:\\Anaconda3\\lib\\site-packages\\sklearn\\preprocessing\\label.py:151: DeprecationWarning: The truth value of an empty array is ambiguous. Returning False, but in future this will result in an error. Use `array.size > 0` to check that an array is not empty.\n",
      "  if diff:\n",
      "D:\\Anaconda3\\lib\\site-packages\\sklearn\\preprocessing\\label.py:151: DeprecationWarning: The truth value of an empty array is ambiguous. Returning False, but in future this will result in an error. Use `array.size > 0` to check that an array is not empty.\n",
      "  if diff:\n",
      "D:\\Anaconda3\\lib\\site-packages\\sklearn\\preprocessing\\label.py:151: DeprecationWarning: The truth value of an empty array is ambiguous. Returning False, but in future this will result in an error. Use `array.size > 0` to check that an array is not empty.\n",
      "  if diff:\n",
      "D:\\Anaconda3\\lib\\site-packages\\sklearn\\preprocessing\\label.py:151: DeprecationWarning: The truth value of an empty array is ambiguous. Returning False, but in future this will result in an error. Use `array.size > 0` to check that an array is not empty.\n",
      "  if diff:\n",
      "D:\\Anaconda3\\lib\\site-packages\\sklearn\\preprocessing\\label.py:151: DeprecationWarning: The truth value of an empty array is ambiguous. Returning False, but in future this will result in an error. Use `array.size > 0` to check that an array is not empty.\n",
      "  if diff:\n",
      "D:\\Anaconda3\\lib\\site-packages\\sklearn\\preprocessing\\label.py:151: DeprecationWarning: The truth value of an empty array is ambiguous. Returning False, but in future this will result in an error. Use `array.size > 0` to check that an array is not empty.\n",
      "  if diff:\n",
      "D:\\Anaconda3\\lib\\site-packages\\sklearn\\preprocessing\\label.py:151: DeprecationWarning: The truth value of an empty array is ambiguous. Returning False, but in future this will result in an error. Use `array.size > 0` to check that an array is not empty.\n",
      "  if diff:\n",
      "D:\\Anaconda3\\lib\\site-packages\\sklearn\\preprocessing\\label.py:151: DeprecationWarning: The truth value of an empty array is ambiguous. Returning False, but in future this will result in an error. Use `array.size > 0` to check that an array is not empty.\n",
      "  if diff:\n",
      "D:\\Anaconda3\\lib\\site-packages\\sklearn\\preprocessing\\label.py:151: DeprecationWarning: The truth value of an empty array is ambiguous. Returning False, but in future this will result in an error. Use `array.size > 0` to check that an array is not empty.\n",
      "  if diff:\n",
      "D:\\Anaconda3\\lib\\site-packages\\sklearn\\preprocessing\\label.py:151: DeprecationWarning: The truth value of an empty array is ambiguous. Returning False, but in future this will result in an error. Use `array.size > 0` to check that an array is not empty.\n",
      "  if diff:\n",
      "D:\\Anaconda3\\lib\\site-packages\\sklearn\\preprocessing\\label.py:151: DeprecationWarning: The truth value of an empty array is ambiguous. Returning False, but in future this will result in an error. Use `array.size > 0` to check that an array is not empty.\n",
      "  if diff:\n",
      "D:\\Anaconda3\\lib\\site-packages\\sklearn\\preprocessing\\label.py:151: DeprecationWarning: The truth value of an empty array is ambiguous. Returning False, but in future this will result in an error. Use `array.size > 0` to check that an array is not empty.\n",
      "  if diff:\n",
      "D:\\Anaconda3\\lib\\site-packages\\sklearn\\preprocessing\\label.py:151: DeprecationWarning: The truth value of an empty array is ambiguous. Returning False, but in future this will result in an error. Use `array.size > 0` to check that an array is not empty.\n",
      "  if diff:\n",
      "D:\\Anaconda3\\lib\\site-packages\\sklearn\\preprocessing\\label.py:151: DeprecationWarning: The truth value of an empty array is ambiguous. Returning False, but in future this will result in an error. Use `array.size > 0` to check that an array is not empty.\n",
      "  if diff:\n",
      "D:\\Anaconda3\\lib\\site-packages\\sklearn\\preprocessing\\label.py:151: DeprecationWarning: The truth value of an empty array is ambiguous. Returning False, but in future this will result in an error. Use `array.size > 0` to check that an array is not empty.\n",
      "  if diff:\n"
     ]
    },
    {
     "data": {
      "text/plain": [
       "RandomizedSearchCV(cv=5, error_score='raise',\n",
       "          estimator=XGBClassifier(base_score=0.5, booster='gbtree', colsample_bylevel=1,\n",
       "       colsample_bytree=1, gamma=0, learning_rate=0.1, max_delta_step=0,\n",
       "       max_depth=3, min_child_weight=1, missing=None, n_estimators=100,\n",
       "       n_jobs=1, nthread=None, nthreads=-1, objective='binary:logistic',\n",
       "       random_state=0, reg_alpha=0, reg_lambda=1, scale_pos_weight=1,\n",
       "       seed=None, silent=True, subsample=1),\n",
       "          fit_params=None, iid=True, n_iter=2, n_jobs=1,\n",
       "          param_distributions={'n_estimators': <scipy.stats._distn_infrastructure.rv_frozen object at 0x000001FCCA441AC8>, 'max_depth': <scipy.stats._distn_infrastructure.rv_frozen object at 0x000001FCCA441C18>, 'learning_rate': <scipy.stats._distn_infrastructure.rv_frozen object at 0x000001FCCA441D68>, 'cols...F8>, 'min_child_weight': <scipy.stats._distn_infrastructure.rv_frozen object at 0x000001FCCA440BA8>},\n",
       "          pre_dispatch='2*n_jobs', random_state=None, refit=True,\n",
       "          return_train_score='warn', scoring=None, verbose=0)"
      ]
     },
     "execution_count": 16,
     "metadata": {},
     "output_type": "execute_result"
    }
   ],
   "source": [
    "clf.fit(X, y)"
   ]
  },
  {
   "cell_type": "code",
   "execution_count": 17,
   "metadata": {},
   "outputs": [
    {
     "name": "stderr",
     "output_type": "stream",
     "text": [
      "D:\\Anaconda3\\lib\\site-packages\\sklearn\\preprocessing\\label.py:151: DeprecationWarning: The truth value of an empty array is ambiguous. Returning False, but in future this will result in an error. Use `array.size > 0` to check that an array is not empty.\n",
      "  if diff:\n"
     ]
    },
    {
     "data": {
      "text/plain": [
       "0.9906"
      ]
     },
     "execution_count": 17,
     "metadata": {},
     "output_type": "execute_result"
    }
   ],
   "source": [
    "scores = clf.score(X, y)\n",
    "scores"
   ]
  },
  {
   "cell_type": "code",
   "execution_count": 18,
   "metadata": {},
   "outputs": [
    {
     "name": "stderr",
     "output_type": "stream",
     "text": [
      "D:\\Anaconda3\\lib\\site-packages\\sklearn\\preprocessing\\label.py:151: DeprecationWarning: The truth value of an empty array is ambiguous. Returning False, but in future this will result in an error. Use `array.size > 0` to check that an array is not empty.\n",
      "  if diff:\n"
     ]
    },
    {
     "data": {
      "text/plain": [
       "array([85, 64, 93, ..., 98, 80, 91])"
      ]
     },
     "execution_count": 18,
     "metadata": {},
     "output_type": "execute_result"
    }
   ],
   "source": [
    "clf.predict(X)"
   ]
  },
  {
   "cell_type": "code",
   "execution_count": 20,
   "metadata": {},
   "outputs": [
    {
     "data": {
      "text/plain": [
       "array([85, 64, 93, ..., 98, 80, 91])"
      ]
     },
     "execution_count": 20,
     "metadata": {},
     "output_type": "execute_result"
    }
   ],
   "source": [
    "y"
   ]
  },
  {
   "cell_type": "code",
   "execution_count": 23,
   "metadata": {},
   "outputs": [
    {
     "data": {
      "text/plain": [
       "DecisionTreeClassifier(class_weight=None, criterion='gini', max_depth=None,\n",
       "            max_features=None, max_leaf_nodes=None,\n",
       "            min_impurity_decrease=0.0, min_impurity_split=None,\n",
       "            min_samples_leaf=1, min_samples_split=2,\n",
       "            min_weight_fraction_leaf=0.0, presort=False, random_state=0,\n",
       "            splitter='best')"
      ]
     },
     "execution_count": 23,
     "metadata": {},
     "output_type": "execute_result"
    }
   ],
   "source": [
    "clf2 = DecisionTreeClassifier(max_depth=None, min_samples_split=2,random_state=0)\n",
    "clf2.fit(X,y)"
   ]
  },
  {
   "cell_type": "code",
   "execution_count": 24,
   "metadata": {},
   "outputs": [
    {
     "data": {
      "text/plain": [
       "1.0"
      ]
     },
     "execution_count": 24,
     "metadata": {},
     "output_type": "execute_result"
    }
   ],
   "source": [
    "clf2.score(X, y)"
   ]
  },
  {
   "cell_type": "code",
   "execution_count": 26,
   "metadata": {},
   "outputs": [
    {
     "name": "stderr",
     "output_type": "stream",
     "text": [
      "D:\\Anaconda3\\lib\\site-packages\\sklearn\\preprocessing\\label.py:151: DeprecationWarning: The truth value of an empty array is ambiguous. Returning False, but in future this will result in an error. Use `array.size > 0` to check that an array is not empty.\n",
      "  if diff:\n",
      "D:\\Anaconda3\\lib\\site-packages\\sklearn\\preprocessing\\label.py:151: DeprecationWarning: The truth value of an empty array is ambiguous. Returning False, but in future this will result in an error. Use `array.size > 0` to check that an array is not empty.\n",
      "  if diff:\n",
      "D:\\Anaconda3\\lib\\site-packages\\sklearn\\preprocessing\\label.py:151: DeprecationWarning: The truth value of an empty array is ambiguous. Returning False, but in future this will result in an error. Use `array.size > 0` to check that an array is not empty.\n",
      "  if diff:\n",
      "D:\\Anaconda3\\lib\\site-packages\\sklearn\\preprocessing\\label.py:151: DeprecationWarning: The truth value of an empty array is ambiguous. Returning False, but in future this will result in an error. Use `array.size > 0` to check that an array is not empty.\n",
      "  if diff:\n",
      "D:\\Anaconda3\\lib\\site-packages\\sklearn\\preprocessing\\label.py:151: DeprecationWarning: The truth value of an empty array is ambiguous. Returning False, but in future this will result in an error. Use `array.size > 0` to check that an array is not empty.\n",
      "  if diff:\n",
      "D:\\Anaconda3\\lib\\site-packages\\sklearn\\preprocessing\\label.py:151: DeprecationWarning: The truth value of an empty array is ambiguous. Returning False, but in future this will result in an error. Use `array.size > 0` to check that an array is not empty.\n",
      "  if diff:\n",
      "D:\\Anaconda3\\lib\\site-packages\\sklearn\\preprocessing\\label.py:151: DeprecationWarning: The truth value of an empty array is ambiguous. Returning False, but in future this will result in an error. Use `array.size > 0` to check that an array is not empty.\n",
      "  if diff:\n",
      "D:\\Anaconda3\\lib\\site-packages\\sklearn\\preprocessing\\label.py:151: DeprecationWarning: The truth value of an empty array is ambiguous. Returning False, but in future this will result in an error. Use `array.size > 0` to check that an array is not empty.\n",
      "  if diff:\n",
      "D:\\Anaconda3\\lib\\site-packages\\sklearn\\preprocessing\\label.py:151: DeprecationWarning: The truth value of an empty array is ambiguous. Returning False, but in future this will result in an error. Use `array.size > 0` to check that an array is not empty.\n",
      "  if diff:\n",
      "D:\\Anaconda3\\lib\\site-packages\\sklearn\\preprocessing\\label.py:151: DeprecationWarning: The truth value of an empty array is ambiguous. Returning False, but in future this will result in an error. Use `array.size > 0` to check that an array is not empty.\n",
      "  if diff:\n",
      "D:\\Anaconda3\\lib\\site-packages\\sklearn\\preprocessing\\label.py:151: DeprecationWarning: The truth value of an empty array is ambiguous. Returning False, but in future this will result in an error. Use `array.size > 0` to check that an array is not empty.\n",
      "  if diff:\n",
      "D:\\Anaconda3\\lib\\site-packages\\sklearn\\preprocessing\\label.py:151: DeprecationWarning: The truth value of an empty array is ambiguous. Returning False, but in future this will result in an error. Use `array.size > 0` to check that an array is not empty.\n",
      "  if diff:\n",
      "D:\\Anaconda3\\lib\\site-packages\\sklearn\\preprocessing\\label.py:151: DeprecationWarning: The truth value of an empty array is ambiguous. Returning False, but in future this will result in an error. Use `array.size > 0` to check that an array is not empty.\n",
      "  if diff:\n",
      "D:\\Anaconda3\\lib\\site-packages\\sklearn\\preprocessing\\label.py:151: DeprecationWarning: The truth value of an empty array is ambiguous. Returning False, but in future this will result in an error. Use `array.size > 0` to check that an array is not empty.\n",
      "  if diff:\n",
      "D:\\Anaconda3\\lib\\site-packages\\sklearn\\preprocessing\\label.py:151: DeprecationWarning: The truth value of an empty array is ambiguous. Returning False, but in future this will result in an error. Use `array.size > 0` to check that an array is not empty.\n",
      "  if diff:\n",
      "D:\\Anaconda3\\lib\\site-packages\\sklearn\\preprocessing\\label.py:151: DeprecationWarning: The truth value of an empty array is ambiguous. Returning False, but in future this will result in an error. Use `array.size > 0` to check that an array is not empty.\n",
      "  if diff:\n",
      "D:\\Anaconda3\\lib\\site-packages\\sklearn\\preprocessing\\label.py:151: DeprecationWarning: The truth value of an empty array is ambiguous. Returning False, but in future this will result in an error. Use `array.size > 0` to check that an array is not empty.\n",
      "  if diff:\n",
      "D:\\Anaconda3\\lib\\site-packages\\sklearn\\preprocessing\\label.py:151: DeprecationWarning: The truth value of an empty array is ambiguous. Returning False, but in future this will result in an error. Use `array.size > 0` to check that an array is not empty.\n",
      "  if diff:\n",
      "D:\\Anaconda3\\lib\\site-packages\\sklearn\\preprocessing\\label.py:151: DeprecationWarning: The truth value of an empty array is ambiguous. Returning False, but in future this will result in an error. Use `array.size > 0` to check that an array is not empty.\n",
      "  if diff:\n",
      "D:\\Anaconda3\\lib\\site-packages\\sklearn\\preprocessing\\label.py:151: DeprecationWarning: The truth value of an empty array is ambiguous. Returning False, but in future this will result in an error. Use `array.size > 0` to check that an array is not empty.\n",
      "  if diff:\n"
     ]
    },
    {
     "data": {
      "text/plain": [
       "VotingClassifier(estimators=[('clf', RandomizedSearchCV(cv=5, error_score='raise',\n",
       "          estimator=XGBClassifier(base_score=0.5, booster='gbtree', colsample_bylevel=1,\n",
       "       colsample_bytree=1, gamma=0, learning_rate=0.1, max_delta_step=0,\n",
       "       max_depth=3, min_child_weight=1, missing=None, n_estimators=100,\n",
       "...         min_weight_fraction_leaf=0.0, presort=False, random_state=0,\n",
       "            splitter='best'))],\n",
       "         flatten_transform=None, n_jobs=1, voting='soft', weights=None)"
      ]
     },
     "execution_count": 26,
     "metadata": {},
     "output_type": "execute_result"
    }
   ],
   "source": []
  },
  {
   "cell_type": "code",
   "execution_count": 27,
   "metadata": {},
   "outputs": [
    {
     "name": "stderr",
     "output_type": "stream",
     "text": [
      "D:\\Anaconda3\\lib\\site-packages\\sklearn\\preprocessing\\label.py:151: DeprecationWarning: The truth value of an empty array is ambiguous. Returning False, but in future this will result in an error. Use `array.size > 0` to check that an array is not empty.\n",
      "  if diff:\n"
     ]
    },
    {
     "data": {
      "text/plain": [
       "1.0"
      ]
     },
     "execution_count": 27,
     "metadata": {},
     "output_type": "execute_result"
    }
   ],
   "source": [
    "vote.score(X, y)"
   ]
  },
  {
   "cell_type": "code",
   "execution_count": 31,
   "metadata": {},
   "outputs": [
    {
     "name": "stderr",
     "output_type": "stream",
     "text": [
      "D:\\Anaconda3\\lib\\site-packages\\sklearn\\preprocessing\\label.py:151: DeprecationWarning: The truth value of an empty array is ambiguous. Returning False, but in future this will result in an error. Use `array.size > 0` to check that an array is not empty.\n",
      "  if diff:\n"
     ]
    },
    {
     "data": {
      "text/plain": [
       "array([85, 64, 93, ..., 98, 80, 91])"
      ]
     },
     "execution_count": 31,
     "metadata": {},
     "output_type": "execute_result"
    }
   ],
   "source": [
    "yy = vote.predict(X)\n",
    "yy"
   ]
  },
  {
   "cell_type": "code",
   "execution_count": 29,
   "metadata": {},
   "outputs": [
    {
     "data": {
      "text/plain": [
       "array([[  6.46907649,   4.25070317,  -8.63694437, ...,  -0.48172814,\n",
       "         -6.44996141,  -2.65984972],\n",
       "       [  6.48856404,   9.37957037,  10.32791736, ...,   3.37542134,\n",
       "          7.41273719,  -9.72284371],\n",
       "       [  8.37392753, -10.14342267,  -3.52753613, ...,  -7.31536045,\n",
       "         -2.33070872,   6.44087163],\n",
       "       ...,\n",
       "       [  7.86551596,   6.19525794,   4.773955  , ...,   4.93452091,\n",
       "         -4.52137856,   6.28178851],\n",
       "       [-10.41156442,   1.40054826,  -1.97349572, ...,  -3.18210433,\n",
       "          7.59487579,   4.62753678],\n",
       "       [  7.40908901,  -7.3908382 ,  10.78350645, ...,  -3.26219501,\n",
       "          5.73727272,  -4.97354916]])"
      ]
     },
     "execution_count": 29,
     "metadata": {},
     "output_type": "execute_result"
    }
   ],
   "source": [
    "X"
   ]
  },
  {
   "cell_type": "code",
   "execution_count": 30,
   "metadata": {},
   "outputs": [],
   "source": [
    "import numpy as np"
   ]
  },
  {
   "cell_type": "code",
   "execution_count": 38,
   "metadata": {},
   "outputs": [
    {
     "ename": "AxisError",
     "evalue": "axis 1 is out of bounds for array of dimension 1",
     "output_type": "error",
     "traceback": [
      "\u001b[1;31m---------------------------------------------------------------------------\u001b[0m",
      "\u001b[1;31mAxisError\u001b[0m                                 Traceback (most recent call last)",
      "\u001b[1;32m<ipython-input-38-68a80215de76>\u001b[0m in \u001b[0;36m<module>\u001b[1;34m()\u001b[0m\n\u001b[1;32m----> 1\u001b[1;33m \u001b[0mtest\u001b[0m \u001b[1;33m=\u001b[0m \u001b[0mnp\u001b[0m\u001b[1;33m.\u001b[0m\u001b[0mconcatenate\u001b[0m\u001b[1;33m(\u001b[0m\u001b[1;33m(\u001b[0m\u001b[0myy\u001b[0m\u001b[1;33m,\u001b[0m \u001b[0myy\u001b[0m\u001b[1;33m)\u001b[0m\u001b[1;33m,\u001b[0m \u001b[0maxis\u001b[0m\u001b[1;33m=\u001b[0m\u001b[1;36m1\u001b[0m\u001b[1;33m)\u001b[0m\u001b[1;33m\u001b[0m\u001b[0m\n\u001b[0m\u001b[0;32m      2\u001b[0m \u001b[0mtest\u001b[0m\u001b[1;33m\u001b[0m\u001b[0m\n",
      "\u001b[1;31mAxisError\u001b[0m: axis 1 is out of bounds for array of dimension 1"
     ]
    }
   ],
   "source": [
    "test = np.concatenate((yy, yy), axis=1)\n",
    "test"
   ]
  },
  {
   "cell_type": "code",
   "execution_count": 37,
   "metadata": {},
   "outputs": [
    {
     "data": {
      "text/plain": [
       "(20000,)"
      ]
     },
     "execution_count": 37,
     "metadata": {},
     "output_type": "execute_result"
    }
   ],
   "source": [
    "test.shape"
   ]
  },
  {
   "cell_type": "code",
   "execution_count": 53,
   "metadata": {},
   "outputs": [],
   "source": [
    "test2 = np.reshape(yy, (yy.shape[0],1))"
   ]
  },
  {
   "cell_type": "code",
   "execution_count": 50,
   "metadata": {},
   "outputs": [
    {
     "data": {
      "text/plain": [
       "(10000,)"
      ]
     },
     "execution_count": 50,
     "metadata": {},
     "output_type": "execute_result"
    }
   ],
   "source": [
    "yy.shape"
   ]
  },
  {
   "cell_type": "code",
   "execution_count": 47,
   "metadata": {},
   "outputs": [],
   "source": [
    "xx=X"
   ]
  },
  {
   "cell_type": "code",
   "execution_count": 49,
   "metadata": {},
   "outputs": [
    {
     "data": {
      "text/plain": [
       "(10000, 10)"
      ]
     },
     "execution_count": 49,
     "metadata": {},
     "output_type": "execute_result"
    }
   ],
   "source": [
    "xx.shape"
   ]
  },
  {
   "cell_type": "code",
   "execution_count": 54,
   "metadata": {},
   "outputs": [
    {
     "data": {
      "text/plain": [
       "array([[  6.46907649,   4.25070317,  -8.63694437, ...,  -6.44996141,\n",
       "         -2.65984972,  85.        ],\n",
       "       [  6.48856404,   9.37957037,  10.32791736, ...,   7.41273719,\n",
       "         -9.72284371,  64.        ],\n",
       "       [  8.37392753, -10.14342267,  -3.52753613, ...,  -2.33070872,\n",
       "          6.44087163,  93.        ],\n",
       "       ...,\n",
       "       [  7.86551596,   6.19525794,   4.773955  , ...,  -4.52137856,\n",
       "          6.28178851,  98.        ],\n",
       "       [-10.41156442,   1.40054826,  -1.97349572, ...,   7.59487579,\n",
       "          4.62753678,  80.        ],\n",
       "       [  7.40908901,  -7.3908382 ,  10.78350645, ...,   5.73727272,\n",
       "         -4.97354916,  91.        ]])"
      ]
     },
     "execution_count": 54,
     "metadata": {},
     "output_type": "execute_result"
    }
   ],
   "source": [
    "test2 = np.reshape(yy, (yy.shape[0],1))\n",
    "np.concatenate((xx, test2), axis=1)"
   ]
  },
  {
   "cell_type": "code",
   "execution_count": 1,
   "metadata": {},
   "outputs": [],
   "source": [
    "import pandas as pd"
   ]
  },
  {
   "cell_type": "code",
   "execution_count": 18,
   "metadata": {},
   "outputs": [
    {
     "data": {
      "text/html": [
       "<div>\n",
       "<style scoped>\n",
       "    .dataframe tbody tr th:only-of-type {\n",
       "        vertical-align: middle;\n",
       "    }\n",
       "\n",
       "    .dataframe tbody tr th {\n",
       "        vertical-align: top;\n",
       "    }\n",
       "\n",
       "    .dataframe thead th {\n",
       "        text-align: right;\n",
       "    }\n",
       "</style>\n",
       "<table border=\"1\" class=\"dataframe\">\n",
       "  <thead>\n",
       "    <tr style=\"text-align: right;\">\n",
       "      <th></th>\n",
       "      <th>Target</th>\n",
       "      <th>Ad_amount</th>\n",
       "      <th>UserAge</th>\n",
       "      <th>AccAge</th>\n",
       "      <th>AgeAtOpenAcc</th>\n",
       "      <th>CreditSumcat1</th>\n",
       "      <th>CreditSumcat2</th>\n",
       "      <th>CreditSumcat3</th>\n",
       "      <th>CreditSumcat4</th>\n",
       "      <th>CreditSumcat5</th>\n",
       "      <th>...</th>\n",
       "      <th>AgeAtOpenAcc_Indicator</th>\n",
       "      <th>CreditSumcat1_Indicator</th>\n",
       "      <th>SumDebit4_Indicator</th>\n",
       "      <th>SumLogin4_Indicator</th>\n",
       "      <th>LogInGrowth_Indicator</th>\n",
       "      <th>New_gender</th>\n",
       "      <th>New_marital_status</th>\n",
       "      <th>New_individual_income_segment_code</th>\n",
       "      <th>New_family_income_segment_code</th>\n",
       "      <th>New_WeekDay</th>\n",
       "    </tr>\n",
       "  </thead>\n",
       "  <tbody>\n",
       "    <tr>\n",
       "      <th>0</th>\n",
       "      <td>0.0</td>\n",
       "      <td>0</td>\n",
       "      <td>55</td>\n",
       "      <td>28</td>\n",
       "      <td>27</td>\n",
       "      <td>2963.545233</td>\n",
       "      <td>1236.483644</td>\n",
       "      <td>0.000000</td>\n",
       "      <td>905.421157</td>\n",
       "      <td>0.000000</td>\n",
       "      <td>...</td>\n",
       "      <td>0</td>\n",
       "      <td>0</td>\n",
       "      <td>1</td>\n",
       "      <td>0</td>\n",
       "      <td>0</td>\n",
       "      <td>1txt</td>\n",
       "      <td>1txt</td>\n",
       "      <td>11txt</td>\n",
       "      <td>07txt</td>\n",
       "      <td>Nonetxt</td>\n",
       "    </tr>\n",
       "    <tr>\n",
       "      <th>1</th>\n",
       "      <td>0.0</td>\n",
       "      <td>0</td>\n",
       "      <td>46</td>\n",
       "      <td>39</td>\n",
       "      <td>7</td>\n",
       "      <td>6170.049250</td>\n",
       "      <td>2665.921704</td>\n",
       "      <td>0.000000</td>\n",
       "      <td>441.643432</td>\n",
       "      <td>0.000000</td>\n",
       "      <td>...</td>\n",
       "      <td>0</td>\n",
       "      <td>0</td>\n",
       "      <td>0</td>\n",
       "      <td>0</td>\n",
       "      <td>0</td>\n",
       "      <td>0txt</td>\n",
       "      <td>1txt</td>\n",
       "      <td>0txt</td>\n",
       "      <td>01txt</td>\n",
       "      <td>Nonetxt</td>\n",
       "    </tr>\n",
       "    <tr>\n",
       "      <th>2</th>\n",
       "      <td>0.0</td>\n",
       "      <td>0</td>\n",
       "      <td>68</td>\n",
       "      <td>41</td>\n",
       "      <td>27</td>\n",
       "      <td>54.359237</td>\n",
       "      <td>0.000000</td>\n",
       "      <td>0.000000</td>\n",
       "      <td>0.000000</td>\n",
       "      <td>3476.816276</td>\n",
       "      <td>...</td>\n",
       "      <td>0</td>\n",
       "      <td>0</td>\n",
       "      <td>1</td>\n",
       "      <td>0</td>\n",
       "      <td>0</td>\n",
       "      <td>0txt</td>\n",
       "      <td>0txt</td>\n",
       "      <td>02txt</td>\n",
       "      <td>03txt</td>\n",
       "      <td>Nonetxt</td>\n",
       "    </tr>\n",
       "    <tr>\n",
       "      <th>3</th>\n",
       "      <td>0.0</td>\n",
       "      <td>0</td>\n",
       "      <td>53</td>\n",
       "      <td>39</td>\n",
       "      <td>14</td>\n",
       "      <td>0.000000</td>\n",
       "      <td>368.690912</td>\n",
       "      <td>0.000000</td>\n",
       "      <td>0.000000</td>\n",
       "      <td>0.000000</td>\n",
       "      <td>...</td>\n",
       "      <td>0</td>\n",
       "      <td>0</td>\n",
       "      <td>1</td>\n",
       "      <td>0</td>\n",
       "      <td>0</td>\n",
       "      <td>1txt</td>\n",
       "      <td>3txt</td>\n",
       "      <td>05txt</td>\n",
       "      <td>03txt</td>\n",
       "      <td>Nonetxt</td>\n",
       "    </tr>\n",
       "    <tr>\n",
       "      <th>4</th>\n",
       "      <td>0.0</td>\n",
       "      <td>0</td>\n",
       "      <td>52</td>\n",
       "      <td>33</td>\n",
       "      <td>19</td>\n",
       "      <td>0.000000</td>\n",
       "      <td>0.000000</td>\n",
       "      <td>0.000000</td>\n",
       "      <td>0.000000</td>\n",
       "      <td>0.000000</td>\n",
       "      <td>...</td>\n",
       "      <td>0</td>\n",
       "      <td>0</td>\n",
       "      <td>0</td>\n",
       "      <td>0</td>\n",
       "      <td>0</td>\n",
       "      <td>1txt</td>\n",
       "      <td>1txt</td>\n",
       "      <td>08txt</td>\n",
       "      <td>07txt</td>\n",
       "      <td>Nonetxt</td>\n",
       "    </tr>\n",
       "    <tr>\n",
       "      <th>5</th>\n",
       "      <td>0.0</td>\n",
       "      <td>0</td>\n",
       "      <td>62</td>\n",
       "      <td>36</td>\n",
       "      <td>26</td>\n",
       "      <td>0.000000</td>\n",
       "      <td>8316.559967</td>\n",
       "      <td>0.000000</td>\n",
       "      <td>0.000000</td>\n",
       "      <td>53.679991</td>\n",
       "      <td>...</td>\n",
       "      <td>0</td>\n",
       "      <td>0</td>\n",
       "      <td>0</td>\n",
       "      <td>0</td>\n",
       "      <td>0</td>\n",
       "      <td>1txt</td>\n",
       "      <td>1txt</td>\n",
       "      <td>03txt</td>\n",
       "      <td>01txt</td>\n",
       "      <td>Nonetxt</td>\n",
       "    </tr>\n",
       "    <tr>\n",
       "      <th>6</th>\n",
       "      <td>0.0</td>\n",
       "      <td>0</td>\n",
       "      <td>60</td>\n",
       "      <td>44</td>\n",
       "      <td>16</td>\n",
       "      <td>0.000000</td>\n",
       "      <td>0.000000</td>\n",
       "      <td>0.000000</td>\n",
       "      <td>575.183652</td>\n",
       "      <td>0.000000</td>\n",
       "      <td>...</td>\n",
       "      <td>0</td>\n",
       "      <td>0</td>\n",
       "      <td>1</td>\n",
       "      <td>0</td>\n",
       "      <td>0</td>\n",
       "      <td>0txt</td>\n",
       "      <td>0txt</td>\n",
       "      <td>13txt</td>\n",
       "      <td>06txt</td>\n",
       "      <td>Nonetxt</td>\n",
       "    </tr>\n",
       "    <tr>\n",
       "      <th>7</th>\n",
       "      <td>0.0</td>\n",
       "      <td>0</td>\n",
       "      <td>64</td>\n",
       "      <td>47</td>\n",
       "      <td>17</td>\n",
       "      <td>0.000000</td>\n",
       "      <td>0.000000</td>\n",
       "      <td>0.000000</td>\n",
       "      <td>0.000000</td>\n",
       "      <td>0.000000</td>\n",
       "      <td>...</td>\n",
       "      <td>0</td>\n",
       "      <td>0</td>\n",
       "      <td>0</td>\n",
       "      <td>0</td>\n",
       "      <td>0</td>\n",
       "      <td>1txt</td>\n",
       "      <td>2txt</td>\n",
       "      <td>05txt</td>\n",
       "      <td>02txt</td>\n",
       "      <td>Nonetxt</td>\n",
       "    </tr>\n",
       "    <tr>\n",
       "      <th>8</th>\n",
       "      <td>0.0</td>\n",
       "      <td>0</td>\n",
       "      <td>52</td>\n",
       "      <td>46</td>\n",
       "      <td>6</td>\n",
       "      <td>1624.552270</td>\n",
       "      <td>0.000000</td>\n",
       "      <td>982.761776</td>\n",
       "      <td>286.369803</td>\n",
       "      <td>0.000000</td>\n",
       "      <td>...</td>\n",
       "      <td>0</td>\n",
       "      <td>0</td>\n",
       "      <td>1</td>\n",
       "      <td>0</td>\n",
       "      <td>0</td>\n",
       "      <td>1txt</td>\n",
       "      <td>1txt</td>\n",
       "      <td>0txt</td>\n",
       "      <td>05txt</td>\n",
       "      <td>Nonetxt</td>\n",
       "    </tr>\n",
       "    <tr>\n",
       "      <th>9</th>\n",
       "      <td>0.0</td>\n",
       "      <td>1</td>\n",
       "      <td>45</td>\n",
       "      <td>46</td>\n",
       "      <td>-1</td>\n",
       "      <td>0.000000</td>\n",
       "      <td>0.000000</td>\n",
       "      <td>6080.224455</td>\n",
       "      <td>0.000000</td>\n",
       "      <td>0.000000</td>\n",
       "      <td>...</td>\n",
       "      <td>0</td>\n",
       "      <td>0</td>\n",
       "      <td>0</td>\n",
       "      <td>0</td>\n",
       "      <td>0</td>\n",
       "      <td>0txt</td>\n",
       "      <td>1txt</td>\n",
       "      <td>11txt</td>\n",
       "      <td>02txt</td>\n",
       "      <td>Mondaytxt</td>\n",
       "    </tr>\n",
       "    <tr>\n",
       "      <th>10</th>\n",
       "      <td>0.0</td>\n",
       "      <td>1</td>\n",
       "      <td>73</td>\n",
       "      <td>31</td>\n",
       "      <td>42</td>\n",
       "      <td>0.000000</td>\n",
       "      <td>317.094561</td>\n",
       "      <td>1875.481909</td>\n",
       "      <td>0.000000</td>\n",
       "      <td>894.578999</td>\n",
       "      <td>...</td>\n",
       "      <td>0</td>\n",
       "      <td>0</td>\n",
       "      <td>0</td>\n",
       "      <td>0</td>\n",
       "      <td>0</td>\n",
       "      <td>0txt</td>\n",
       "      <td>3txt</td>\n",
       "      <td>0txt</td>\n",
       "      <td>0txt</td>\n",
       "      <td>Mondaytxt</td>\n",
       "    </tr>\n",
       "    <tr>\n",
       "      <th>11</th>\n",
       "      <td>0.0</td>\n",
       "      <td>0</td>\n",
       "      <td>47</td>\n",
       "      <td>40</td>\n",
       "      <td>7</td>\n",
       "      <td>4374.962757</td>\n",
       "      <td>4826.108955</td>\n",
       "      <td>0.000000</td>\n",
       "      <td>0.000000</td>\n",
       "      <td>0.000000</td>\n",
       "      <td>...</td>\n",
       "      <td>0</td>\n",
       "      <td>0</td>\n",
       "      <td>1</td>\n",
       "      <td>0</td>\n",
       "      <td>0</td>\n",
       "      <td>0txt</td>\n",
       "      <td>1txt</td>\n",
       "      <td>0txt</td>\n",
       "      <td>01txt</td>\n",
       "      <td>Nonetxt</td>\n",
       "    </tr>\n",
       "    <tr>\n",
       "      <th>12</th>\n",
       "      <td>0.0</td>\n",
       "      <td>1</td>\n",
       "      <td>55</td>\n",
       "      <td>39</td>\n",
       "      <td>16</td>\n",
       "      <td>0.000000</td>\n",
       "      <td>0.000000</td>\n",
       "      <td>0.000000</td>\n",
       "      <td>135.144595</td>\n",
       "      <td>0.000000</td>\n",
       "      <td>...</td>\n",
       "      <td>0</td>\n",
       "      <td>0</td>\n",
       "      <td>0</td>\n",
       "      <td>0</td>\n",
       "      <td>0</td>\n",
       "      <td>0txt</td>\n",
       "      <td>3txt</td>\n",
       "      <td>04txt</td>\n",
       "      <td>02txt</td>\n",
       "      <td>Tuesdaytxt</td>\n",
       "    </tr>\n",
       "    <tr>\n",
       "      <th>13</th>\n",
       "      <td>0.0</td>\n",
       "      <td>0</td>\n",
       "      <td>64</td>\n",
       "      <td>29</td>\n",
       "      <td>35</td>\n",
       "      <td>0.000000</td>\n",
       "      <td>0.000000</td>\n",
       "      <td>0.000000</td>\n",
       "      <td>0.000000</td>\n",
       "      <td>1860.430143</td>\n",
       "      <td>...</td>\n",
       "      <td>0</td>\n",
       "      <td>0</td>\n",
       "      <td>0</td>\n",
       "      <td>0</td>\n",
       "      <td>0</td>\n",
       "      <td>1txt</td>\n",
       "      <td>1txt</td>\n",
       "      <td>0txt</td>\n",
       "      <td>01txt</td>\n",
       "      <td>Nonetxt</td>\n",
       "    </tr>\n",
       "    <tr>\n",
       "      <th>14</th>\n",
       "      <td>0.0</td>\n",
       "      <td>0</td>\n",
       "      <td>51</td>\n",
       "      <td>34</td>\n",
       "      <td>17</td>\n",
       "      <td>0.000000</td>\n",
       "      <td>3633.158195</td>\n",
       "      <td>0.000000</td>\n",
       "      <td>0.000000</td>\n",
       "      <td>278.505078</td>\n",
       "      <td>...</td>\n",
       "      <td>0</td>\n",
       "      <td>0</td>\n",
       "      <td>0</td>\n",
       "      <td>0</td>\n",
       "      <td>0</td>\n",
       "      <td>0txt</td>\n",
       "      <td>3txt</td>\n",
       "      <td>01txt</td>\n",
       "      <td>06txt</td>\n",
       "      <td>Nonetxt</td>\n",
       "    </tr>\n",
       "    <tr>\n",
       "      <th>15</th>\n",
       "      <td>0.0</td>\n",
       "      <td>0</td>\n",
       "      <td>42</td>\n",
       "      <td>42</td>\n",
       "      <td>0</td>\n",
       "      <td>0.000000</td>\n",
       "      <td>0.000000</td>\n",
       "      <td>0.000000</td>\n",
       "      <td>0.000000</td>\n",
       "      <td>1967.862851</td>\n",
       "      <td>...</td>\n",
       "      <td>0</td>\n",
       "      <td>0</td>\n",
       "      <td>0</td>\n",
       "      <td>0</td>\n",
       "      <td>0</td>\n",
       "      <td>1txt</td>\n",
       "      <td>1txt</td>\n",
       "      <td>11txt</td>\n",
       "      <td>04txt</td>\n",
       "      <td>Nonetxt</td>\n",
       "    </tr>\n",
       "    <tr>\n",
       "      <th>16</th>\n",
       "      <td>0.0</td>\n",
       "      <td>0</td>\n",
       "      <td>61</td>\n",
       "      <td>29</td>\n",
       "      <td>32</td>\n",
       "      <td>0.000000</td>\n",
       "      <td>0.000000</td>\n",
       "      <td>0.000000</td>\n",
       "      <td>0.000000</td>\n",
       "      <td>0.000000</td>\n",
       "      <td>...</td>\n",
       "      <td>0</td>\n",
       "      <td>0</td>\n",
       "      <td>0</td>\n",
       "      <td>0</td>\n",
       "      <td>0</td>\n",
       "      <td>0txt</td>\n",
       "      <td>1txt</td>\n",
       "      <td>02txt</td>\n",
       "      <td>01txt</td>\n",
       "      <td>Nonetxt</td>\n",
       "    </tr>\n",
       "    <tr>\n",
       "      <th>17</th>\n",
       "      <td>0.0</td>\n",
       "      <td>0</td>\n",
       "      <td>68</td>\n",
       "      <td>39</td>\n",
       "      <td>29</td>\n",
       "      <td>0.000000</td>\n",
       "      <td>474.314853</td>\n",
       "      <td>0.000000</td>\n",
       "      <td>0.000000</td>\n",
       "      <td>0.000000</td>\n",
       "      <td>...</td>\n",
       "      <td>0</td>\n",
       "      <td>0</td>\n",
       "      <td>0</td>\n",
       "      <td>0</td>\n",
       "      <td>0</td>\n",
       "      <td>0txt</td>\n",
       "      <td>1txt</td>\n",
       "      <td>14txt</td>\n",
       "      <td>04txt</td>\n",
       "      <td>Nonetxt</td>\n",
       "    </tr>\n",
       "    <tr>\n",
       "      <th>18</th>\n",
       "      <td>0.0</td>\n",
       "      <td>0</td>\n",
       "      <td>49</td>\n",
       "      <td>47</td>\n",
       "      <td>2</td>\n",
       "      <td>0.000000</td>\n",
       "      <td>1433.002734</td>\n",
       "      <td>855.219424</td>\n",
       "      <td>0.000000</td>\n",
       "      <td>0.000000</td>\n",
       "      <td>...</td>\n",
       "      <td>0</td>\n",
       "      <td>0</td>\n",
       "      <td>0</td>\n",
       "      <td>1</td>\n",
       "      <td>1</td>\n",
       "      <td>1txt</td>\n",
       "      <td>0txt</td>\n",
       "      <td>03txt</td>\n",
       "      <td>07txt</td>\n",
       "      <td>Nonetxt</td>\n",
       "    </tr>\n",
       "    <tr>\n",
       "      <th>19</th>\n",
       "      <td>0.0</td>\n",
       "      <td>0</td>\n",
       "      <td>43</td>\n",
       "      <td>33</td>\n",
       "      <td>10</td>\n",
       "      <td>0.000000</td>\n",
       "      <td>0.000000</td>\n",
       "      <td>0.000000</td>\n",
       "      <td>1798.222243</td>\n",
       "      <td>0.000000</td>\n",
       "      <td>...</td>\n",
       "      <td>0</td>\n",
       "      <td>0</td>\n",
       "      <td>0</td>\n",
       "      <td>0</td>\n",
       "      <td>0</td>\n",
       "      <td>0txt</td>\n",
       "      <td>2txt</td>\n",
       "      <td>05txt</td>\n",
       "      <td>01txt</td>\n",
       "      <td>Nonetxt</td>\n",
       "    </tr>\n",
       "    <tr>\n",
       "      <th>20</th>\n",
       "      <td>0.0</td>\n",
       "      <td>0</td>\n",
       "      <td>58</td>\n",
       "      <td>34</td>\n",
       "      <td>24</td>\n",
       "      <td>0.000000</td>\n",
       "      <td>0.000000</td>\n",
       "      <td>0.000000</td>\n",
       "      <td>0.000000</td>\n",
       "      <td>0.000000</td>\n",
       "      <td>...</td>\n",
       "      <td>0</td>\n",
       "      <td>0</td>\n",
       "      <td>0</td>\n",
       "      <td>0</td>\n",
       "      <td>0</td>\n",
       "      <td>0txt</td>\n",
       "      <td>1txt</td>\n",
       "      <td>0txt</td>\n",
       "      <td>05txt</td>\n",
       "      <td>Nonetxt</td>\n",
       "    </tr>\n",
       "    <tr>\n",
       "      <th>21</th>\n",
       "      <td>0.0</td>\n",
       "      <td>0</td>\n",
       "      <td>47</td>\n",
       "      <td>39</td>\n",
       "      <td>8</td>\n",
       "      <td>3494.945315</td>\n",
       "      <td>676.882148</td>\n",
       "      <td>0.000000</td>\n",
       "      <td>0.000000</td>\n",
       "      <td>0.000000</td>\n",
       "      <td>...</td>\n",
       "      <td>0</td>\n",
       "      <td>0</td>\n",
       "      <td>0</td>\n",
       "      <td>0</td>\n",
       "      <td>0</td>\n",
       "      <td>0txt</td>\n",
       "      <td>1txt</td>\n",
       "      <td>0txt</td>\n",
       "      <td>05txt</td>\n",
       "      <td>Nonetxt</td>\n",
       "    </tr>\n",
       "    <tr>\n",
       "      <th>22</th>\n",
       "      <td>0.0</td>\n",
       "      <td>0</td>\n",
       "      <td>76</td>\n",
       "      <td>42</td>\n",
       "      <td>34</td>\n",
       "      <td>3730.158362</td>\n",
       "      <td>0.000000</td>\n",
       "      <td>1783.919699</td>\n",
       "      <td>0.000000</td>\n",
       "      <td>0.000000</td>\n",
       "      <td>...</td>\n",
       "      <td>0</td>\n",
       "      <td>0</td>\n",
       "      <td>0</td>\n",
       "      <td>1</td>\n",
       "      <td>1</td>\n",
       "      <td>0txt</td>\n",
       "      <td>2txt</td>\n",
       "      <td>07txt</td>\n",
       "      <td>06txt</td>\n",
       "      <td>Nonetxt</td>\n",
       "    </tr>\n",
       "    <tr>\n",
       "      <th>23</th>\n",
       "      <td>0.0</td>\n",
       "      <td>0</td>\n",
       "      <td>41</td>\n",
       "      <td>43</td>\n",
       "      <td>-2</td>\n",
       "      <td>0.000000</td>\n",
       "      <td>0.000000</td>\n",
       "      <td>9880.428133</td>\n",
       "      <td>0.000000</td>\n",
       "      <td>4040.623215</td>\n",
       "      <td>...</td>\n",
       "      <td>0</td>\n",
       "      <td>0</td>\n",
       "      <td>1</td>\n",
       "      <td>0</td>\n",
       "      <td>0</td>\n",
       "      <td>1txt</td>\n",
       "      <td>1txt</td>\n",
       "      <td>02txt</td>\n",
       "      <td>02txt</td>\n",
       "      <td>Nonetxt</td>\n",
       "    </tr>\n",
       "    <tr>\n",
       "      <th>24</th>\n",
       "      <td>0.0</td>\n",
       "      <td>0</td>\n",
       "      <td>44</td>\n",
       "      <td>40</td>\n",
       "      <td>4</td>\n",
       "      <td>0.000000</td>\n",
       "      <td>0.000000</td>\n",
       "      <td>0.000000</td>\n",
       "      <td>0.000000</td>\n",
       "      <td>10262.983796</td>\n",
       "      <td>...</td>\n",
       "      <td>0</td>\n",
       "      <td>0</td>\n",
       "      <td>0</td>\n",
       "      <td>0</td>\n",
       "      <td>0</td>\n",
       "      <td>1txt</td>\n",
       "      <td>3txt</td>\n",
       "      <td>15txt</td>\n",
       "      <td>04txt</td>\n",
       "      <td>Nonetxt</td>\n",
       "    </tr>\n",
       "    <tr>\n",
       "      <th>25</th>\n",
       "      <td>0.0</td>\n",
       "      <td>1</td>\n",
       "      <td>75</td>\n",
       "      <td>26</td>\n",
       "      <td>49</td>\n",
       "      <td>0.000000</td>\n",
       "      <td>641.730306</td>\n",
       "      <td>1788.127489</td>\n",
       "      <td>0.000000</td>\n",
       "      <td>0.000000</td>\n",
       "      <td>...</td>\n",
       "      <td>0</td>\n",
       "      <td>0</td>\n",
       "      <td>0</td>\n",
       "      <td>1</td>\n",
       "      <td>1</td>\n",
       "      <td>1txt</td>\n",
       "      <td>1txt</td>\n",
       "      <td>03txt</td>\n",
       "      <td>04txt</td>\n",
       "      <td>Wednesdaytxt</td>\n",
       "    </tr>\n",
       "    <tr>\n",
       "      <th>26</th>\n",
       "      <td>0.0</td>\n",
       "      <td>0</td>\n",
       "      <td>40</td>\n",
       "      <td>35</td>\n",
       "      <td>5</td>\n",
       "      <td>0.000000</td>\n",
       "      <td>0.000000</td>\n",
       "      <td>7024.398978</td>\n",
       "      <td>1879.461531</td>\n",
       "      <td>0.000000</td>\n",
       "      <td>...</td>\n",
       "      <td>0</td>\n",
       "      <td>0</td>\n",
       "      <td>1</td>\n",
       "      <td>1</td>\n",
       "      <td>1</td>\n",
       "      <td>1txt</td>\n",
       "      <td>3txt</td>\n",
       "      <td>02txt</td>\n",
       "      <td>07txt</td>\n",
       "      <td>Nonetxt</td>\n",
       "    </tr>\n",
       "    <tr>\n",
       "      <th>27</th>\n",
       "      <td>0.0</td>\n",
       "      <td>0</td>\n",
       "      <td>57</td>\n",
       "      <td>46</td>\n",
       "      <td>11</td>\n",
       "      <td>0.000000</td>\n",
       "      <td>0.000000</td>\n",
       "      <td>0.000000</td>\n",
       "      <td>0.000000</td>\n",
       "      <td>0.000000</td>\n",
       "      <td>...</td>\n",
       "      <td>0</td>\n",
       "      <td>0</td>\n",
       "      <td>0</td>\n",
       "      <td>0</td>\n",
       "      <td>0</td>\n",
       "      <td>1txt</td>\n",
       "      <td>1txt</td>\n",
       "      <td>14txt</td>\n",
       "      <td>04txt</td>\n",
       "      <td>Nonetxt</td>\n",
       "    </tr>\n",
       "    <tr>\n",
       "      <th>28</th>\n",
       "      <td>1.0</td>\n",
       "      <td>0</td>\n",
       "      <td>54</td>\n",
       "      <td>37</td>\n",
       "      <td>17</td>\n",
       "      <td>24129.656948</td>\n",
       "      <td>0.000000</td>\n",
       "      <td>0.000000</td>\n",
       "      <td>458.216787</td>\n",
       "      <td>0.000000</td>\n",
       "      <td>...</td>\n",
       "      <td>0</td>\n",
       "      <td>0</td>\n",
       "      <td>1</td>\n",
       "      <td>0</td>\n",
       "      <td>0</td>\n",
       "      <td>0txt</td>\n",
       "      <td>3txt</td>\n",
       "      <td>02txt</td>\n",
       "      <td>0txt</td>\n",
       "      <td>Nonetxt</td>\n",
       "    </tr>\n",
       "    <tr>\n",
       "      <th>29</th>\n",
       "      <td>0.0</td>\n",
       "      <td>0</td>\n",
       "      <td>49</td>\n",
       "      <td>32</td>\n",
       "      <td>17</td>\n",
       "      <td>0.000000</td>\n",
       "      <td>0.000000</td>\n",
       "      <td>0.000000</td>\n",
       "      <td>3827.468779</td>\n",
       "      <td>30397.860782</td>\n",
       "      <td>...</td>\n",
       "      <td>0</td>\n",
       "      <td>0</td>\n",
       "      <td>0</td>\n",
       "      <td>0</td>\n",
       "      <td>0</td>\n",
       "      <td>0txt</td>\n",
       "      <td>1txt</td>\n",
       "      <td>01txt</td>\n",
       "      <td>03txt</td>\n",
       "      <td>Nonetxt</td>\n",
       "    </tr>\n",
       "    <tr>\n",
       "      <th>...</th>\n",
       "      <td>...</td>\n",
       "      <td>...</td>\n",
       "      <td>...</td>\n",
       "      <td>...</td>\n",
       "      <td>...</td>\n",
       "      <td>...</td>\n",
       "      <td>...</td>\n",
       "      <td>...</td>\n",
       "      <td>...</td>\n",
       "      <td>...</td>\n",
       "      <td>...</td>\n",
       "      <td>...</td>\n",
       "      <td>...</td>\n",
       "      <td>...</td>\n",
       "      <td>...</td>\n",
       "      <td>...</td>\n",
       "      <td>...</td>\n",
       "      <td>...</td>\n",
       "      <td>...</td>\n",
       "      <td>...</td>\n",
       "      <td>...</td>\n",
       "    </tr>\n",
       "    <tr>\n",
       "      <th>10690</th>\n",
       "      <td>1.0</td>\n",
       "      <td>0</td>\n",
       "      <td>59</td>\n",
       "      <td>32</td>\n",
       "      <td>27</td>\n",
       "      <td>503.435321</td>\n",
       "      <td>0.000000</td>\n",
       "      <td>5867.316024</td>\n",
       "      <td>0.000000</td>\n",
       "      <td>0.000000</td>\n",
       "      <td>...</td>\n",
       "      <td>0</td>\n",
       "      <td>0</td>\n",
       "      <td>0</td>\n",
       "      <td>0</td>\n",
       "      <td>0</td>\n",
       "      <td>1txt</td>\n",
       "      <td>1txt</td>\n",
       "      <td>10txt</td>\n",
       "      <td>0txt</td>\n",
       "      <td>Nonetxt</td>\n",
       "    </tr>\n",
       "    <tr>\n",
       "      <th>10691</th>\n",
       "      <td>0.0</td>\n",
       "      <td>0</td>\n",
       "      <td>47</td>\n",
       "      <td>36</td>\n",
       "      <td>11</td>\n",
       "      <td>0.000000</td>\n",
       "      <td>7318.339595</td>\n",
       "      <td>0.000000</td>\n",
       "      <td>0.000000</td>\n",
       "      <td>0.000000</td>\n",
       "      <td>...</td>\n",
       "      <td>0</td>\n",
       "      <td>0</td>\n",
       "      <td>1</td>\n",
       "      <td>0</td>\n",
       "      <td>0</td>\n",
       "      <td>0txt</td>\n",
       "      <td>3txt</td>\n",
       "      <td>13txt</td>\n",
       "      <td>02txt</td>\n",
       "      <td>Nonetxt</td>\n",
       "    </tr>\n",
       "    <tr>\n",
       "      <th>10692</th>\n",
       "      <td>0.0</td>\n",
       "      <td>0</td>\n",
       "      <td>50</td>\n",
       "      <td>36</td>\n",
       "      <td>14</td>\n",
       "      <td>10878.956149</td>\n",
       "      <td>0.000000</td>\n",
       "      <td>0.000000</td>\n",
       "      <td>658.837327</td>\n",
       "      <td>7303.113166</td>\n",
       "      <td>...</td>\n",
       "      <td>0</td>\n",
       "      <td>0</td>\n",
       "      <td>0</td>\n",
       "      <td>1</td>\n",
       "      <td>1</td>\n",
       "      <td>1txt</td>\n",
       "      <td>2txt</td>\n",
       "      <td>0txt</td>\n",
       "      <td>04txt</td>\n",
       "      <td>Nonetxt</td>\n",
       "    </tr>\n",
       "    <tr>\n",
       "      <th>10693</th>\n",
       "      <td>0.0</td>\n",
       "      <td>0</td>\n",
       "      <td>48</td>\n",
       "      <td>39</td>\n",
       "      <td>9</td>\n",
       "      <td>0.000000</td>\n",
       "      <td>0.000000</td>\n",
       "      <td>0.000000</td>\n",
       "      <td>0.000000</td>\n",
       "      <td>0.000000</td>\n",
       "      <td>...</td>\n",
       "      <td>0</td>\n",
       "      <td>0</td>\n",
       "      <td>0</td>\n",
       "      <td>0</td>\n",
       "      <td>0</td>\n",
       "      <td>0txt</td>\n",
       "      <td>2txt</td>\n",
       "      <td>03txt</td>\n",
       "      <td>07txt</td>\n",
       "      <td>Nonetxt</td>\n",
       "    </tr>\n",
       "    <tr>\n",
       "      <th>10694</th>\n",
       "      <td>0.0</td>\n",
       "      <td>0</td>\n",
       "      <td>55</td>\n",
       "      <td>39</td>\n",
       "      <td>16</td>\n",
       "      <td>0.000000</td>\n",
       "      <td>274.160027</td>\n",
       "      <td>0.000000</td>\n",
       "      <td>0.000000</td>\n",
       "      <td>3663.907031</td>\n",
       "      <td>...</td>\n",
       "      <td>0</td>\n",
       "      <td>0</td>\n",
       "      <td>0</td>\n",
       "      <td>0</td>\n",
       "      <td>0</td>\n",
       "      <td>0txt</td>\n",
       "      <td>0txt</td>\n",
       "      <td>02txt</td>\n",
       "      <td>0txt</td>\n",
       "      <td>Nonetxt</td>\n",
       "    </tr>\n",
       "    <tr>\n",
       "      <th>10695</th>\n",
       "      <td>0.0</td>\n",
       "      <td>0</td>\n",
       "      <td>60</td>\n",
       "      <td>46</td>\n",
       "      <td>14</td>\n",
       "      <td>0.000000</td>\n",
       "      <td>0.000000</td>\n",
       "      <td>0.000000</td>\n",
       "      <td>0.000000</td>\n",
       "      <td>0.000000</td>\n",
       "      <td>...</td>\n",
       "      <td>0</td>\n",
       "      <td>0</td>\n",
       "      <td>0</td>\n",
       "      <td>0</td>\n",
       "      <td>0</td>\n",
       "      <td>0txt</td>\n",
       "      <td>1txt</td>\n",
       "      <td>0txt</td>\n",
       "      <td>05txt</td>\n",
       "      <td>Nonetxt</td>\n",
       "    </tr>\n",
       "    <tr>\n",
       "      <th>10696</th>\n",
       "      <td>0.0</td>\n",
       "      <td>0</td>\n",
       "      <td>45</td>\n",
       "      <td>35</td>\n",
       "      <td>10</td>\n",
       "      <td>9649.509734</td>\n",
       "      <td>0.000000</td>\n",
       "      <td>0.000000</td>\n",
       "      <td>0.000000</td>\n",
       "      <td>2332.803201</td>\n",
       "      <td>...</td>\n",
       "      <td>0</td>\n",
       "      <td>0</td>\n",
       "      <td>1</td>\n",
       "      <td>1</td>\n",
       "      <td>1</td>\n",
       "      <td>0txt</td>\n",
       "      <td>2txt</td>\n",
       "      <td>14txt</td>\n",
       "      <td>01txt</td>\n",
       "      <td>Nonetxt</td>\n",
       "    </tr>\n",
       "    <tr>\n",
       "      <th>10697</th>\n",
       "      <td>0.0</td>\n",
       "      <td>0</td>\n",
       "      <td>75</td>\n",
       "      <td>36</td>\n",
       "      <td>39</td>\n",
       "      <td>696.099208</td>\n",
       "      <td>0.000000</td>\n",
       "      <td>4796.365075</td>\n",
       "      <td>3272.799498</td>\n",
       "      <td>11996.702999</td>\n",
       "      <td>...</td>\n",
       "      <td>0</td>\n",
       "      <td>0</td>\n",
       "      <td>0</td>\n",
       "      <td>1</td>\n",
       "      <td>1</td>\n",
       "      <td>1txt</td>\n",
       "      <td>2txt</td>\n",
       "      <td>06txt</td>\n",
       "      <td>04txt</td>\n",
       "      <td>Nonetxt</td>\n",
       "    </tr>\n",
       "    <tr>\n",
       "      <th>10698</th>\n",
       "      <td>0.0</td>\n",
       "      <td>0</td>\n",
       "      <td>54</td>\n",
       "      <td>31</td>\n",
       "      <td>23</td>\n",
       "      <td>0.000000</td>\n",
       "      <td>1104.125036</td>\n",
       "      <td>1437.255000</td>\n",
       "      <td>2541.974059</td>\n",
       "      <td>0.000000</td>\n",
       "      <td>...</td>\n",
       "      <td>0</td>\n",
       "      <td>0</td>\n",
       "      <td>0</td>\n",
       "      <td>0</td>\n",
       "      <td>0</td>\n",
       "      <td>1txt</td>\n",
       "      <td>3txt</td>\n",
       "      <td>02txt</td>\n",
       "      <td>04txt</td>\n",
       "      <td>Nonetxt</td>\n",
       "    </tr>\n",
       "    <tr>\n",
       "      <th>10699</th>\n",
       "      <td>1.0</td>\n",
       "      <td>0</td>\n",
       "      <td>68</td>\n",
       "      <td>37</td>\n",
       "      <td>31</td>\n",
       "      <td>0.000000</td>\n",
       "      <td>0.000000</td>\n",
       "      <td>0.000000</td>\n",
       "      <td>4695.237222</td>\n",
       "      <td>0.000000</td>\n",
       "      <td>...</td>\n",
       "      <td>0</td>\n",
       "      <td>0</td>\n",
       "      <td>0</td>\n",
       "      <td>0</td>\n",
       "      <td>0</td>\n",
       "      <td>1txt</td>\n",
       "      <td>0txt</td>\n",
       "      <td>02txt</td>\n",
       "      <td>0txt</td>\n",
       "      <td>Nonetxt</td>\n",
       "    </tr>\n",
       "    <tr>\n",
       "      <th>10700</th>\n",
       "      <td>0.0</td>\n",
       "      <td>0</td>\n",
       "      <td>66</td>\n",
       "      <td>32</td>\n",
       "      <td>34</td>\n",
       "      <td>0.000000</td>\n",
       "      <td>0.000000</td>\n",
       "      <td>76.713861</td>\n",
       "      <td>2352.506822</td>\n",
       "      <td>20112.866421</td>\n",
       "      <td>...</td>\n",
       "      <td>0</td>\n",
       "      <td>0</td>\n",
       "      <td>0</td>\n",
       "      <td>0</td>\n",
       "      <td>0</td>\n",
       "      <td>0txt</td>\n",
       "      <td>1txt</td>\n",
       "      <td>09txt</td>\n",
       "      <td>01txt</td>\n",
       "      <td>Nonetxt</td>\n",
       "    </tr>\n",
       "    <tr>\n",
       "      <th>10701</th>\n",
       "      <td>0.0</td>\n",
       "      <td>0</td>\n",
       "      <td>51</td>\n",
       "      <td>41</td>\n",
       "      <td>10</td>\n",
       "      <td>0.000000</td>\n",
       "      <td>0.000000</td>\n",
       "      <td>0.000000</td>\n",
       "      <td>0.000000</td>\n",
       "      <td>3680.891726</td>\n",
       "      <td>...</td>\n",
       "      <td>0</td>\n",
       "      <td>0</td>\n",
       "      <td>0</td>\n",
       "      <td>1</td>\n",
       "      <td>1</td>\n",
       "      <td>0txt</td>\n",
       "      <td>0txt</td>\n",
       "      <td>13txt</td>\n",
       "      <td>06txt</td>\n",
       "      <td>Nonetxt</td>\n",
       "    </tr>\n",
       "    <tr>\n",
       "      <th>10702</th>\n",
       "      <td>0.0</td>\n",
       "      <td>0</td>\n",
       "      <td>59</td>\n",
       "      <td>50</td>\n",
       "      <td>9</td>\n",
       "      <td>0.000000</td>\n",
       "      <td>0.000000</td>\n",
       "      <td>0.000000</td>\n",
       "      <td>35679.183174</td>\n",
       "      <td>0.000000</td>\n",
       "      <td>...</td>\n",
       "      <td>0</td>\n",
       "      <td>0</td>\n",
       "      <td>0</td>\n",
       "      <td>0</td>\n",
       "      <td>0</td>\n",
       "      <td>1txt</td>\n",
       "      <td>2txt</td>\n",
       "      <td>12txt</td>\n",
       "      <td>03txt</td>\n",
       "      <td>Nonetxt</td>\n",
       "    </tr>\n",
       "    <tr>\n",
       "      <th>10703</th>\n",
       "      <td>0.0</td>\n",
       "      <td>0</td>\n",
       "      <td>61</td>\n",
       "      <td>37</td>\n",
       "      <td>24</td>\n",
       "      <td>0.000000</td>\n",
       "      <td>546.426058</td>\n",
       "      <td>0.000000</td>\n",
       "      <td>0.000000</td>\n",
       "      <td>0.000000</td>\n",
       "      <td>...</td>\n",
       "      <td>0</td>\n",
       "      <td>0</td>\n",
       "      <td>0</td>\n",
       "      <td>0</td>\n",
       "      <td>0</td>\n",
       "      <td>0txt</td>\n",
       "      <td>2txt</td>\n",
       "      <td>13txt</td>\n",
       "      <td>0txt</td>\n",
       "      <td>Nonetxt</td>\n",
       "    </tr>\n",
       "    <tr>\n",
       "      <th>10704</th>\n",
       "      <td>0.0</td>\n",
       "      <td>0</td>\n",
       "      <td>58</td>\n",
       "      <td>29</td>\n",
       "      <td>29</td>\n",
       "      <td>1396.382581</td>\n",
       "      <td>0.000000</td>\n",
       "      <td>0.000000</td>\n",
       "      <td>166.038191</td>\n",
       "      <td>0.000000</td>\n",
       "      <td>...</td>\n",
       "      <td>0</td>\n",
       "      <td>0</td>\n",
       "      <td>1</td>\n",
       "      <td>0</td>\n",
       "      <td>0</td>\n",
       "      <td>0txt</td>\n",
       "      <td>0txt</td>\n",
       "      <td>06txt</td>\n",
       "      <td>06txt</td>\n",
       "      <td>Nonetxt</td>\n",
       "    </tr>\n",
       "    <tr>\n",
       "      <th>10705</th>\n",
       "      <td>0.0</td>\n",
       "      <td>0</td>\n",
       "      <td>63</td>\n",
       "      <td>37</td>\n",
       "      <td>26</td>\n",
       "      <td>0.000000</td>\n",
       "      <td>0.000000</td>\n",
       "      <td>0.000000</td>\n",
       "      <td>10104.091841</td>\n",
       "      <td>0.000000</td>\n",
       "      <td>...</td>\n",
       "      <td>0</td>\n",
       "      <td>0</td>\n",
       "      <td>0</td>\n",
       "      <td>0</td>\n",
       "      <td>0</td>\n",
       "      <td>1txt</td>\n",
       "      <td>0txt</td>\n",
       "      <td>04txt</td>\n",
       "      <td>0txt</td>\n",
       "      <td>Nonetxt</td>\n",
       "    </tr>\n",
       "    <tr>\n",
       "      <th>10706</th>\n",
       "      <td>0.0</td>\n",
       "      <td>0</td>\n",
       "      <td>51</td>\n",
       "      <td>37</td>\n",
       "      <td>14</td>\n",
       "      <td>0.000000</td>\n",
       "      <td>0.000000</td>\n",
       "      <td>0.000000</td>\n",
       "      <td>0.000000</td>\n",
       "      <td>0.000000</td>\n",
       "      <td>...</td>\n",
       "      <td>0</td>\n",
       "      <td>0</td>\n",
       "      <td>0</td>\n",
       "      <td>0</td>\n",
       "      <td>0</td>\n",
       "      <td>1txt</td>\n",
       "      <td>1txt</td>\n",
       "      <td>02txt</td>\n",
       "      <td>01txt</td>\n",
       "      <td>Nonetxt</td>\n",
       "    </tr>\n",
       "    <tr>\n",
       "      <th>10707</th>\n",
       "      <td>0.0</td>\n",
       "      <td>0</td>\n",
       "      <td>83</td>\n",
       "      <td>40</td>\n",
       "      <td>43</td>\n",
       "      <td>0.000000</td>\n",
       "      <td>2496.126759</td>\n",
       "      <td>0.000000</td>\n",
       "      <td>0.000000</td>\n",
       "      <td>0.000000</td>\n",
       "      <td>...</td>\n",
       "      <td>0</td>\n",
       "      <td>0</td>\n",
       "      <td>0</td>\n",
       "      <td>0</td>\n",
       "      <td>0</td>\n",
       "      <td>0txt</td>\n",
       "      <td>3txt</td>\n",
       "      <td>12txt</td>\n",
       "      <td>05txt</td>\n",
       "      <td>Nonetxt</td>\n",
       "    </tr>\n",
       "    <tr>\n",
       "      <th>10708</th>\n",
       "      <td>0.0</td>\n",
       "      <td>0</td>\n",
       "      <td>57</td>\n",
       "      <td>33</td>\n",
       "      <td>24</td>\n",
       "      <td>0.000000</td>\n",
       "      <td>0.000000</td>\n",
       "      <td>825.412536</td>\n",
       "      <td>0.000000</td>\n",
       "      <td>401.164677</td>\n",
       "      <td>...</td>\n",
       "      <td>0</td>\n",
       "      <td>0</td>\n",
       "      <td>0</td>\n",
       "      <td>0</td>\n",
       "      <td>0</td>\n",
       "      <td>1txt</td>\n",
       "      <td>0txt</td>\n",
       "      <td>07txt</td>\n",
       "      <td>01txt</td>\n",
       "      <td>Nonetxt</td>\n",
       "    </tr>\n",
       "    <tr>\n",
       "      <th>10709</th>\n",
       "      <td>0.0</td>\n",
       "      <td>0</td>\n",
       "      <td>51</td>\n",
       "      <td>36</td>\n",
       "      <td>15</td>\n",
       "      <td>0.000000</td>\n",
       "      <td>0.000000</td>\n",
       "      <td>392.855606</td>\n",
       "      <td>0.000000</td>\n",
       "      <td>0.000000</td>\n",
       "      <td>...</td>\n",
       "      <td>0</td>\n",
       "      <td>0</td>\n",
       "      <td>0</td>\n",
       "      <td>0</td>\n",
       "      <td>0</td>\n",
       "      <td>0txt</td>\n",
       "      <td>3txt</td>\n",
       "      <td>0txt</td>\n",
       "      <td>01txt</td>\n",
       "      <td>Nonetxt</td>\n",
       "    </tr>\n",
       "    <tr>\n",
       "      <th>10710</th>\n",
       "      <td>0.0</td>\n",
       "      <td>0</td>\n",
       "      <td>55</td>\n",
       "      <td>36</td>\n",
       "      <td>19</td>\n",
       "      <td>0.000000</td>\n",
       "      <td>0.000000</td>\n",
       "      <td>0.000000</td>\n",
       "      <td>333.930031</td>\n",
       "      <td>0.000000</td>\n",
       "      <td>...</td>\n",
       "      <td>0</td>\n",
       "      <td>0</td>\n",
       "      <td>1</td>\n",
       "      <td>0</td>\n",
       "      <td>0</td>\n",
       "      <td>0txt</td>\n",
       "      <td>1txt</td>\n",
       "      <td>01txt</td>\n",
       "      <td>0txt</td>\n",
       "      <td>Nonetxt</td>\n",
       "    </tr>\n",
       "    <tr>\n",
       "      <th>10711</th>\n",
       "      <td>0.0</td>\n",
       "      <td>1</td>\n",
       "      <td>65</td>\n",
       "      <td>32</td>\n",
       "      <td>33</td>\n",
       "      <td>0.000000</td>\n",
       "      <td>0.000000</td>\n",
       "      <td>279.178511</td>\n",
       "      <td>0.000000</td>\n",
       "      <td>28.338091</td>\n",
       "      <td>...</td>\n",
       "      <td>0</td>\n",
       "      <td>0</td>\n",
       "      <td>0</td>\n",
       "      <td>0</td>\n",
       "      <td>0</td>\n",
       "      <td>0txt</td>\n",
       "      <td>2txt</td>\n",
       "      <td>05txt</td>\n",
       "      <td>04txt</td>\n",
       "      <td>Tuesdaytxt</td>\n",
       "    </tr>\n",
       "    <tr>\n",
       "      <th>10712</th>\n",
       "      <td>0.0</td>\n",
       "      <td>0</td>\n",
       "      <td>59</td>\n",
       "      <td>52</td>\n",
       "      <td>7</td>\n",
       "      <td>0.000000</td>\n",
       "      <td>0.000000</td>\n",
       "      <td>159.700136</td>\n",
       "      <td>0.000000</td>\n",
       "      <td>0.000000</td>\n",
       "      <td>...</td>\n",
       "      <td>0</td>\n",
       "      <td>0</td>\n",
       "      <td>0</td>\n",
       "      <td>0</td>\n",
       "      <td>0</td>\n",
       "      <td>0txt</td>\n",
       "      <td>1txt</td>\n",
       "      <td>08txt</td>\n",
       "      <td>02txt</td>\n",
       "      <td>Nonetxt</td>\n",
       "    </tr>\n",
       "    <tr>\n",
       "      <th>10713</th>\n",
       "      <td>0.0</td>\n",
       "      <td>0</td>\n",
       "      <td>65</td>\n",
       "      <td>35</td>\n",
       "      <td>30</td>\n",
       "      <td>0.000000</td>\n",
       "      <td>2419.027199</td>\n",
       "      <td>0.000000</td>\n",
       "      <td>731.266778</td>\n",
       "      <td>0.000000</td>\n",
       "      <td>...</td>\n",
       "      <td>0</td>\n",
       "      <td>0</td>\n",
       "      <td>0</td>\n",
       "      <td>0</td>\n",
       "      <td>0</td>\n",
       "      <td>0txt</td>\n",
       "      <td>1txt</td>\n",
       "      <td>15txt</td>\n",
       "      <td>04txt</td>\n",
       "      <td>Nonetxt</td>\n",
       "    </tr>\n",
       "    <tr>\n",
       "      <th>10714</th>\n",
       "      <td>0.0</td>\n",
       "      <td>0</td>\n",
       "      <td>55</td>\n",
       "      <td>28</td>\n",
       "      <td>27</td>\n",
       "      <td>1813.277277</td>\n",
       "      <td>0.000000</td>\n",
       "      <td>0.000000</td>\n",
       "      <td>1481.123080</td>\n",
       "      <td>0.000000</td>\n",
       "      <td>...</td>\n",
       "      <td>0</td>\n",
       "      <td>0</td>\n",
       "      <td>1</td>\n",
       "      <td>0</td>\n",
       "      <td>0</td>\n",
       "      <td>1txt</td>\n",
       "      <td>2txt</td>\n",
       "      <td>02txt</td>\n",
       "      <td>03txt</td>\n",
       "      <td>Nonetxt</td>\n",
       "    </tr>\n",
       "    <tr>\n",
       "      <th>10715</th>\n",
       "      <td>0.0</td>\n",
       "      <td>0</td>\n",
       "      <td>57</td>\n",
       "      <td>34</td>\n",
       "      <td>23</td>\n",
       "      <td>0.000000</td>\n",
       "      <td>4889.568810</td>\n",
       "      <td>0.000000</td>\n",
       "      <td>0.000000</td>\n",
       "      <td>0.000000</td>\n",
       "      <td>...</td>\n",
       "      <td>0</td>\n",
       "      <td>0</td>\n",
       "      <td>0</td>\n",
       "      <td>0</td>\n",
       "      <td>0</td>\n",
       "      <td>1txt</td>\n",
       "      <td>2txt</td>\n",
       "      <td>15txt</td>\n",
       "      <td>04txt</td>\n",
       "      <td>Nonetxt</td>\n",
       "    </tr>\n",
       "    <tr>\n",
       "      <th>10716</th>\n",
       "      <td>0.0</td>\n",
       "      <td>0</td>\n",
       "      <td>63</td>\n",
       "      <td>32</td>\n",
       "      <td>31</td>\n",
       "      <td>190.319468</td>\n",
       "      <td>13640.823964</td>\n",
       "      <td>0.000000</td>\n",
       "      <td>0.000000</td>\n",
       "      <td>0.000000</td>\n",
       "      <td>...</td>\n",
       "      <td>0</td>\n",
       "      <td>0</td>\n",
       "      <td>1</td>\n",
       "      <td>0</td>\n",
       "      <td>0</td>\n",
       "      <td>1txt</td>\n",
       "      <td>0txt</td>\n",
       "      <td>07txt</td>\n",
       "      <td>03txt</td>\n",
       "      <td>Nonetxt</td>\n",
       "    </tr>\n",
       "    <tr>\n",
       "      <th>10717</th>\n",
       "      <td>0.0</td>\n",
       "      <td>0</td>\n",
       "      <td>48</td>\n",
       "      <td>40</td>\n",
       "      <td>8</td>\n",
       "      <td>0.000000</td>\n",
       "      <td>3781.357730</td>\n",
       "      <td>654.870978</td>\n",
       "      <td>0.000000</td>\n",
       "      <td>0.000000</td>\n",
       "      <td>...</td>\n",
       "      <td>0</td>\n",
       "      <td>0</td>\n",
       "      <td>0</td>\n",
       "      <td>0</td>\n",
       "      <td>0</td>\n",
       "      <td>0txt</td>\n",
       "      <td>3txt</td>\n",
       "      <td>07txt</td>\n",
       "      <td>03txt</td>\n",
       "      <td>Nonetxt</td>\n",
       "    </tr>\n",
       "    <tr>\n",
       "      <th>10718</th>\n",
       "      <td>0.0</td>\n",
       "      <td>0</td>\n",
       "      <td>49</td>\n",
       "      <td>36</td>\n",
       "      <td>13</td>\n",
       "      <td>427.820262</td>\n",
       "      <td>0.000000</td>\n",
       "      <td>0.000000</td>\n",
       "      <td>0.000000</td>\n",
       "      <td>2176.205296</td>\n",
       "      <td>...</td>\n",
       "      <td>0</td>\n",
       "      <td>0</td>\n",
       "      <td>0</td>\n",
       "      <td>0</td>\n",
       "      <td>0</td>\n",
       "      <td>0txt</td>\n",
       "      <td>2txt</td>\n",
       "      <td>07txt</td>\n",
       "      <td>03txt</td>\n",
       "      <td>Nonetxt</td>\n",
       "    </tr>\n",
       "    <tr>\n",
       "      <th>10719</th>\n",
       "      <td>0.0</td>\n",
       "      <td>0</td>\n",
       "      <td>63</td>\n",
       "      <td>39</td>\n",
       "      <td>24</td>\n",
       "      <td>0.000000</td>\n",
       "      <td>0.000000</td>\n",
       "      <td>0.000000</td>\n",
       "      <td>0.000000</td>\n",
       "      <td>0.000000</td>\n",
       "      <td>...</td>\n",
       "      <td>0</td>\n",
       "      <td>0</td>\n",
       "      <td>1</td>\n",
       "      <td>0</td>\n",
       "      <td>0</td>\n",
       "      <td>0txt</td>\n",
       "      <td>1txt</td>\n",
       "      <td>03txt</td>\n",
       "      <td>04txt</td>\n",
       "      <td>Nonetxt</td>\n",
       "    </tr>\n",
       "  </tbody>\n",
       "</table>\n",
       "<p>10720 rows × 135 columns</p>\n",
       "</div>"
      ],
      "text/plain": [
       "       Target  Ad_amount  UserAge  AccAge  AgeAtOpenAcc  CreditSumcat1  \\\n",
       "0         0.0          0       55      28            27    2963.545233   \n",
       "1         0.0          0       46      39             7    6170.049250   \n",
       "2         0.0          0       68      41            27      54.359237   \n",
       "3         0.0          0       53      39            14       0.000000   \n",
       "4         0.0          0       52      33            19       0.000000   \n",
       "5         0.0          0       62      36            26       0.000000   \n",
       "6         0.0          0       60      44            16       0.000000   \n",
       "7         0.0          0       64      47            17       0.000000   \n",
       "8         0.0          0       52      46             6    1624.552270   \n",
       "9         0.0          1       45      46            -1       0.000000   \n",
       "10        0.0          1       73      31            42       0.000000   \n",
       "11        0.0          0       47      40             7    4374.962757   \n",
       "12        0.0          1       55      39            16       0.000000   \n",
       "13        0.0          0       64      29            35       0.000000   \n",
       "14        0.0          0       51      34            17       0.000000   \n",
       "15        0.0          0       42      42             0       0.000000   \n",
       "16        0.0          0       61      29            32       0.000000   \n",
       "17        0.0          0       68      39            29       0.000000   \n",
       "18        0.0          0       49      47             2       0.000000   \n",
       "19        0.0          0       43      33            10       0.000000   \n",
       "20        0.0          0       58      34            24       0.000000   \n",
       "21        0.0          0       47      39             8    3494.945315   \n",
       "22        0.0          0       76      42            34    3730.158362   \n",
       "23        0.0          0       41      43            -2       0.000000   \n",
       "24        0.0          0       44      40             4       0.000000   \n",
       "25        0.0          1       75      26            49       0.000000   \n",
       "26        0.0          0       40      35             5       0.000000   \n",
       "27        0.0          0       57      46            11       0.000000   \n",
       "28        1.0          0       54      37            17   24129.656948   \n",
       "29        0.0          0       49      32            17       0.000000   \n",
       "...       ...        ...      ...     ...           ...            ...   \n",
       "10690     1.0          0       59      32            27     503.435321   \n",
       "10691     0.0          0       47      36            11       0.000000   \n",
       "10692     0.0          0       50      36            14   10878.956149   \n",
       "10693     0.0          0       48      39             9       0.000000   \n",
       "10694     0.0          0       55      39            16       0.000000   \n",
       "10695     0.0          0       60      46            14       0.000000   \n",
       "10696     0.0          0       45      35            10    9649.509734   \n",
       "10697     0.0          0       75      36            39     696.099208   \n",
       "10698     0.0          0       54      31            23       0.000000   \n",
       "10699     1.0          0       68      37            31       0.000000   \n",
       "10700     0.0          0       66      32            34       0.000000   \n",
       "10701     0.0          0       51      41            10       0.000000   \n",
       "10702     0.0          0       59      50             9       0.000000   \n",
       "10703     0.0          0       61      37            24       0.000000   \n",
       "10704     0.0          0       58      29            29    1396.382581   \n",
       "10705     0.0          0       63      37            26       0.000000   \n",
       "10706     0.0          0       51      37            14       0.000000   \n",
       "10707     0.0          0       83      40            43       0.000000   \n",
       "10708     0.0          0       57      33            24       0.000000   \n",
       "10709     0.0          0       51      36            15       0.000000   \n",
       "10710     0.0          0       55      36            19       0.000000   \n",
       "10711     0.0          1       65      32            33       0.000000   \n",
       "10712     0.0          0       59      52             7       0.000000   \n",
       "10713     0.0          0       65      35            30       0.000000   \n",
       "10714     0.0          0       55      28            27    1813.277277   \n",
       "10715     0.0          0       57      34            23       0.000000   \n",
       "10716     0.0          0       63      32            31     190.319468   \n",
       "10717     0.0          0       48      40             8       0.000000   \n",
       "10718     0.0          0       49      36            13     427.820262   \n",
       "10719     0.0          0       63      39            24       0.000000   \n",
       "\n",
       "       CreditSumcat2  CreditSumcat3  CreditSumcat4  CreditSumcat5  \\\n",
       "0        1236.483644       0.000000     905.421157       0.000000   \n",
       "1        2665.921704       0.000000     441.643432       0.000000   \n",
       "2           0.000000       0.000000       0.000000    3476.816276   \n",
       "3         368.690912       0.000000       0.000000       0.000000   \n",
       "4           0.000000       0.000000       0.000000       0.000000   \n",
       "5        8316.559967       0.000000       0.000000      53.679991   \n",
       "6           0.000000       0.000000     575.183652       0.000000   \n",
       "7           0.000000       0.000000       0.000000       0.000000   \n",
       "8           0.000000     982.761776     286.369803       0.000000   \n",
       "9           0.000000    6080.224455       0.000000       0.000000   \n",
       "10        317.094561    1875.481909       0.000000     894.578999   \n",
       "11       4826.108955       0.000000       0.000000       0.000000   \n",
       "12          0.000000       0.000000     135.144595       0.000000   \n",
       "13          0.000000       0.000000       0.000000    1860.430143   \n",
       "14       3633.158195       0.000000       0.000000     278.505078   \n",
       "15          0.000000       0.000000       0.000000    1967.862851   \n",
       "16          0.000000       0.000000       0.000000       0.000000   \n",
       "17        474.314853       0.000000       0.000000       0.000000   \n",
       "18       1433.002734     855.219424       0.000000       0.000000   \n",
       "19          0.000000       0.000000    1798.222243       0.000000   \n",
       "20          0.000000       0.000000       0.000000       0.000000   \n",
       "21        676.882148       0.000000       0.000000       0.000000   \n",
       "22          0.000000    1783.919699       0.000000       0.000000   \n",
       "23          0.000000    9880.428133       0.000000    4040.623215   \n",
       "24          0.000000       0.000000       0.000000   10262.983796   \n",
       "25        641.730306    1788.127489       0.000000       0.000000   \n",
       "26          0.000000    7024.398978    1879.461531       0.000000   \n",
       "27          0.000000       0.000000       0.000000       0.000000   \n",
       "28          0.000000       0.000000     458.216787       0.000000   \n",
       "29          0.000000       0.000000    3827.468779   30397.860782   \n",
       "...              ...            ...            ...            ...   \n",
       "10690       0.000000    5867.316024       0.000000       0.000000   \n",
       "10691    7318.339595       0.000000       0.000000       0.000000   \n",
       "10692       0.000000       0.000000     658.837327    7303.113166   \n",
       "10693       0.000000       0.000000       0.000000       0.000000   \n",
       "10694     274.160027       0.000000       0.000000    3663.907031   \n",
       "10695       0.000000       0.000000       0.000000       0.000000   \n",
       "10696       0.000000       0.000000       0.000000    2332.803201   \n",
       "10697       0.000000    4796.365075    3272.799498   11996.702999   \n",
       "10698    1104.125036    1437.255000    2541.974059       0.000000   \n",
       "10699       0.000000       0.000000    4695.237222       0.000000   \n",
       "10700       0.000000      76.713861    2352.506822   20112.866421   \n",
       "10701       0.000000       0.000000       0.000000    3680.891726   \n",
       "10702       0.000000       0.000000   35679.183174       0.000000   \n",
       "10703     546.426058       0.000000       0.000000       0.000000   \n",
       "10704       0.000000       0.000000     166.038191       0.000000   \n",
       "10705       0.000000       0.000000   10104.091841       0.000000   \n",
       "10706       0.000000       0.000000       0.000000       0.000000   \n",
       "10707    2496.126759       0.000000       0.000000       0.000000   \n",
       "10708       0.000000     825.412536       0.000000     401.164677   \n",
       "10709       0.000000     392.855606       0.000000       0.000000   \n",
       "10710       0.000000       0.000000     333.930031       0.000000   \n",
       "10711       0.000000     279.178511       0.000000      28.338091   \n",
       "10712       0.000000     159.700136       0.000000       0.000000   \n",
       "10713    2419.027199       0.000000     731.266778       0.000000   \n",
       "10714       0.000000       0.000000    1481.123080       0.000000   \n",
       "10715    4889.568810       0.000000       0.000000       0.000000   \n",
       "10716   13640.823964       0.000000       0.000000       0.000000   \n",
       "10717    3781.357730     654.870978       0.000000       0.000000   \n",
       "10718       0.000000       0.000000       0.000000    2176.205296   \n",
       "10719       0.000000       0.000000       0.000000       0.000000   \n",
       "\n",
       "           ...       AgeAtOpenAcc_Indicator  CreditSumcat1_Indicator  \\\n",
       "0          ...                            0                        0   \n",
       "1          ...                            0                        0   \n",
       "2          ...                            0                        0   \n",
       "3          ...                            0                        0   \n",
       "4          ...                            0                        0   \n",
       "5          ...                            0                        0   \n",
       "6          ...                            0                        0   \n",
       "7          ...                            0                        0   \n",
       "8          ...                            0                        0   \n",
       "9          ...                            0                        0   \n",
       "10         ...                            0                        0   \n",
       "11         ...                            0                        0   \n",
       "12         ...                            0                        0   \n",
       "13         ...                            0                        0   \n",
       "14         ...                            0                        0   \n",
       "15         ...                            0                        0   \n",
       "16         ...                            0                        0   \n",
       "17         ...                            0                        0   \n",
       "18         ...                            0                        0   \n",
       "19         ...                            0                        0   \n",
       "20         ...                            0                        0   \n",
       "21         ...                            0                        0   \n",
       "22         ...                            0                        0   \n",
       "23         ...                            0                        0   \n",
       "24         ...                            0                        0   \n",
       "25         ...                            0                        0   \n",
       "26         ...                            0                        0   \n",
       "27         ...                            0                        0   \n",
       "28         ...                            0                        0   \n",
       "29         ...                            0                        0   \n",
       "...        ...                          ...                      ...   \n",
       "10690      ...                            0                        0   \n",
       "10691      ...                            0                        0   \n",
       "10692      ...                            0                        0   \n",
       "10693      ...                            0                        0   \n",
       "10694      ...                            0                        0   \n",
       "10695      ...                            0                        0   \n",
       "10696      ...                            0                        0   \n",
       "10697      ...                            0                        0   \n",
       "10698      ...                            0                        0   \n",
       "10699      ...                            0                        0   \n",
       "10700      ...                            0                        0   \n",
       "10701      ...                            0                        0   \n",
       "10702      ...                            0                        0   \n",
       "10703      ...                            0                        0   \n",
       "10704      ...                            0                        0   \n",
       "10705      ...                            0                        0   \n",
       "10706      ...                            0                        0   \n",
       "10707      ...                            0                        0   \n",
       "10708      ...                            0                        0   \n",
       "10709      ...                            0                        0   \n",
       "10710      ...                            0                        0   \n",
       "10711      ...                            0                        0   \n",
       "10712      ...                            0                        0   \n",
       "10713      ...                            0                        0   \n",
       "10714      ...                            0                        0   \n",
       "10715      ...                            0                        0   \n",
       "10716      ...                            0                        0   \n",
       "10717      ...                            0                        0   \n",
       "10718      ...                            0                        0   \n",
       "10719      ...                            0                        0   \n",
       "\n",
       "       SumDebit4_Indicator  SumLogin4_Indicator  LogInGrowth_Indicator  \\\n",
       "0                        1                    0                      0   \n",
       "1                        0                    0                      0   \n",
       "2                        1                    0                      0   \n",
       "3                        1                    0                      0   \n",
       "4                        0                    0                      0   \n",
       "5                        0                    0                      0   \n",
       "6                        1                    0                      0   \n",
       "7                        0                    0                      0   \n",
       "8                        1                    0                      0   \n",
       "9                        0                    0                      0   \n",
       "10                       0                    0                      0   \n",
       "11                       1                    0                      0   \n",
       "12                       0                    0                      0   \n",
       "13                       0                    0                      0   \n",
       "14                       0                    0                      0   \n",
       "15                       0                    0                      0   \n",
       "16                       0                    0                      0   \n",
       "17                       0                    0                      0   \n",
       "18                       0                    1                      1   \n",
       "19                       0                    0                      0   \n",
       "20                       0                    0                      0   \n",
       "21                       0                    0                      0   \n",
       "22                       0                    1                      1   \n",
       "23                       1                    0                      0   \n",
       "24                       0                    0                      0   \n",
       "25                       0                    1                      1   \n",
       "26                       1                    1                      1   \n",
       "27                       0                    0                      0   \n",
       "28                       1                    0                      0   \n",
       "29                       0                    0                      0   \n",
       "...                    ...                  ...                    ...   \n",
       "10690                    0                    0                      0   \n",
       "10691                    1                    0                      0   \n",
       "10692                    0                    1                      1   \n",
       "10693                    0                    0                      0   \n",
       "10694                    0                    0                      0   \n",
       "10695                    0                    0                      0   \n",
       "10696                    1                    1                      1   \n",
       "10697                    0                    1                      1   \n",
       "10698                    0                    0                      0   \n",
       "10699                    0                    0                      0   \n",
       "10700                    0                    0                      0   \n",
       "10701                    0                    1                      1   \n",
       "10702                    0                    0                      0   \n",
       "10703                    0                    0                      0   \n",
       "10704                    1                    0                      0   \n",
       "10705                    0                    0                      0   \n",
       "10706                    0                    0                      0   \n",
       "10707                    0                    0                      0   \n",
       "10708                    0                    0                      0   \n",
       "10709                    0                    0                      0   \n",
       "10710                    1                    0                      0   \n",
       "10711                    0                    0                      0   \n",
       "10712                    0                    0                      0   \n",
       "10713                    0                    0                      0   \n",
       "10714                    1                    0                      0   \n",
       "10715                    0                    0                      0   \n",
       "10716                    1                    0                      0   \n",
       "10717                    0                    0                      0   \n",
       "10718                    0                    0                      0   \n",
       "10719                    1                    0                      0   \n",
       "\n",
       "       New_gender  New_marital_status  New_individual_income_segment_code  \\\n",
       "0            1txt                1txt                               11txt   \n",
       "1            0txt                1txt                                0txt   \n",
       "2            0txt                0txt                               02txt   \n",
       "3            1txt                3txt                               05txt   \n",
       "4            1txt                1txt                               08txt   \n",
       "5            1txt                1txt                               03txt   \n",
       "6            0txt                0txt                               13txt   \n",
       "7            1txt                2txt                               05txt   \n",
       "8            1txt                1txt                                0txt   \n",
       "9            0txt                1txt                               11txt   \n",
       "10           0txt                3txt                                0txt   \n",
       "11           0txt                1txt                                0txt   \n",
       "12           0txt                3txt                               04txt   \n",
       "13           1txt                1txt                                0txt   \n",
       "14           0txt                3txt                               01txt   \n",
       "15           1txt                1txt                               11txt   \n",
       "16           0txt                1txt                               02txt   \n",
       "17           0txt                1txt                               14txt   \n",
       "18           1txt                0txt                               03txt   \n",
       "19           0txt                2txt                               05txt   \n",
       "20           0txt                1txt                                0txt   \n",
       "21           0txt                1txt                                0txt   \n",
       "22           0txt                2txt                               07txt   \n",
       "23           1txt                1txt                               02txt   \n",
       "24           1txt                3txt                               15txt   \n",
       "25           1txt                1txt                               03txt   \n",
       "26           1txt                3txt                               02txt   \n",
       "27           1txt                1txt                               14txt   \n",
       "28           0txt                3txt                               02txt   \n",
       "29           0txt                1txt                               01txt   \n",
       "...           ...                 ...                                 ...   \n",
       "10690        1txt                1txt                               10txt   \n",
       "10691        0txt                3txt                               13txt   \n",
       "10692        1txt                2txt                                0txt   \n",
       "10693        0txt                2txt                               03txt   \n",
       "10694        0txt                0txt                               02txt   \n",
       "10695        0txt                1txt                                0txt   \n",
       "10696        0txt                2txt                               14txt   \n",
       "10697        1txt                2txt                               06txt   \n",
       "10698        1txt                3txt                               02txt   \n",
       "10699        1txt                0txt                               02txt   \n",
       "10700        0txt                1txt                               09txt   \n",
       "10701        0txt                0txt                               13txt   \n",
       "10702        1txt                2txt                               12txt   \n",
       "10703        0txt                2txt                               13txt   \n",
       "10704        0txt                0txt                               06txt   \n",
       "10705        1txt                0txt                               04txt   \n",
       "10706        1txt                1txt                               02txt   \n",
       "10707        0txt                3txt                               12txt   \n",
       "10708        1txt                0txt                               07txt   \n",
       "10709        0txt                3txt                                0txt   \n",
       "10710        0txt                1txt                               01txt   \n",
       "10711        0txt                2txt                               05txt   \n",
       "10712        0txt                1txt                               08txt   \n",
       "10713        0txt                1txt                               15txt   \n",
       "10714        1txt                2txt                               02txt   \n",
       "10715        1txt                2txt                               15txt   \n",
       "10716        1txt                0txt                               07txt   \n",
       "10717        0txt                3txt                               07txt   \n",
       "10718        0txt                2txt                               07txt   \n",
       "10719        0txt                1txt                               03txt   \n",
       "\n",
       "       New_family_income_segment_code   New_WeekDay  \n",
       "0                               07txt       Nonetxt  \n",
       "1                               01txt       Nonetxt  \n",
       "2                               03txt       Nonetxt  \n",
       "3                               03txt       Nonetxt  \n",
       "4                               07txt       Nonetxt  \n",
       "5                               01txt       Nonetxt  \n",
       "6                               06txt       Nonetxt  \n",
       "7                               02txt       Nonetxt  \n",
       "8                               05txt       Nonetxt  \n",
       "9                               02txt     Mondaytxt  \n",
       "10                               0txt     Mondaytxt  \n",
       "11                              01txt       Nonetxt  \n",
       "12                              02txt    Tuesdaytxt  \n",
       "13                              01txt       Nonetxt  \n",
       "14                              06txt       Nonetxt  \n",
       "15                              04txt       Nonetxt  \n",
       "16                              01txt       Nonetxt  \n",
       "17                              04txt       Nonetxt  \n",
       "18                              07txt       Nonetxt  \n",
       "19                              01txt       Nonetxt  \n",
       "20                              05txt       Nonetxt  \n",
       "21                              05txt       Nonetxt  \n",
       "22                              06txt       Nonetxt  \n",
       "23                              02txt       Nonetxt  \n",
       "24                              04txt       Nonetxt  \n",
       "25                              04txt  Wednesdaytxt  \n",
       "26                              07txt       Nonetxt  \n",
       "27                              04txt       Nonetxt  \n",
       "28                               0txt       Nonetxt  \n",
       "29                              03txt       Nonetxt  \n",
       "...                               ...           ...  \n",
       "10690                            0txt       Nonetxt  \n",
       "10691                           02txt       Nonetxt  \n",
       "10692                           04txt       Nonetxt  \n",
       "10693                           07txt       Nonetxt  \n",
       "10694                            0txt       Nonetxt  \n",
       "10695                           05txt       Nonetxt  \n",
       "10696                           01txt       Nonetxt  \n",
       "10697                           04txt       Nonetxt  \n",
       "10698                           04txt       Nonetxt  \n",
       "10699                            0txt       Nonetxt  \n",
       "10700                           01txt       Nonetxt  \n",
       "10701                           06txt       Nonetxt  \n",
       "10702                           03txt       Nonetxt  \n",
       "10703                            0txt       Nonetxt  \n",
       "10704                           06txt       Nonetxt  \n",
       "10705                            0txt       Nonetxt  \n",
       "10706                           01txt       Nonetxt  \n",
       "10707                           05txt       Nonetxt  \n",
       "10708                           01txt       Nonetxt  \n",
       "10709                           01txt       Nonetxt  \n",
       "10710                            0txt       Nonetxt  \n",
       "10711                           04txt    Tuesdaytxt  \n",
       "10712                           02txt       Nonetxt  \n",
       "10713                           04txt       Nonetxt  \n",
       "10714                           03txt       Nonetxt  \n",
       "10715                           04txt       Nonetxt  \n",
       "10716                           03txt       Nonetxt  \n",
       "10717                           03txt       Nonetxt  \n",
       "10718                           03txt       Nonetxt  \n",
       "10719                           04txt       Nonetxt  \n",
       "\n",
       "[10720 rows x 135 columns]"
      ]
     },
     "execution_count": 18,
     "metadata": {},
     "output_type": "execute_result"
    }
   ],
   "source": [
    "data = pd.read_csv('IsusV2forTrain.csv', delimiter = ',').reset_index(drop=True)\n",
    "data"
   ]
  },
  {
   "cell_type": "code",
   "execution_count": 19,
   "metadata": {},
   "outputs": [
    {
     "data": {
      "text/plain": [
       "(10720, 134)"
      ]
     },
     "execution_count": 19,
     "metadata": {},
     "output_type": "execute_result"
    }
   ],
   "source": [
    "data1 = data.drop(['Target'], axis=1).fillna(0)\n",
    "# data1 = data1.values\n",
    "y = data[['Target']].values\n",
    "data1.shape\n",
    "# y"
   ]
  },
  {
   "cell_type": "code",
   "execution_count": 20,
   "metadata": {},
   "outputs": [],
   "source": [
    "x = data1.to_dict('records')"
   ]
  },
  {
   "cell_type": "code",
   "execution_count": 21,
   "metadata": {},
   "outputs": [
    {
     "data": {
      "text/plain": [
       "(10720, 166)"
      ]
     },
     "execution_count": 21,
     "metadata": {},
     "output_type": "execute_result"
    }
   ],
   "source": [
    "from sklearn.feature_extraction import DictVectorizer\n",
    "from sklearn.preprocessing import LabelEncoder\n",
    "vec = DictVectorizer()\n",
    "x = vec.fit_transform(x).toarray()\n",
    "x.shape"
   ]
  },
  {
   "cell_type": "code",
   "execution_count": 22,
   "metadata": {},
   "outputs": [
    {
     "name": "stdout",
     "output_type": "stream",
     "text": [
      "[[   28.             0.             0.         ... 11670.96058694\n",
      "     55.             0.        ]\n",
      " [   39.             0.             0.         ...   173.17607771\n",
      "     46.             0.        ]\n",
      " [   41.             0.             0.         ... 11670.96058694\n",
      "     68.             0.        ]\n",
      " ...\n",
      " [   40.             0.             0.         ...   222.44877207\n",
      "     48.             0.        ]\n",
      " [   36.             0.             0.         ...  1781.51391167\n",
      "     49.             0.        ]\n",
      " [   39.             0.             0.         ... 11670.96058694\n",
      "     63.             0.        ]] [[0.]\n",
      " [0.]\n",
      " [0.]\n",
      " ...\n",
      " [0.]\n",
      " [0.]\n",
      " [0.]] (10720, 166) (10720, 1)\n"
     ]
    }
   ],
   "source": [
    "print(x,y,x.shape,y.shape)"
   ]
  },
  {
   "cell_type": "code",
   "execution_count": 23,
   "metadata": {},
   "outputs": [
    {
     "name": "stdout",
     "output_type": "stream",
     "text": [
      "(8000, 166) (8000, 1) (2720, 166) (2720, 1)\n"
     ]
    }
   ],
   "source": [
    "x_train = x[:8000][:]\n",
    "y_train = y[:8000][:]\n",
    "x_val = x[8000:][:]\n",
    "y_val = y[8000:][:]\n",
    "print(x_train.shape,y_train.shape,x_val.shape,y_val.shape)"
   ]
  },
  {
   "cell_type": "code",
   "execution_count": 24,
   "metadata": {},
   "outputs": [
    {
     "name": "stdout",
     "output_type": "stream",
     "text": [
      "[[2.80000000e+01 0.00000000e+00 0.00000000e+00 ... 1.16709606e+04\n",
      "  5.50000000e+01 0.00000000e+00]\n",
      " [3.90000000e+01 0.00000000e+00 0.00000000e+00 ... 1.73176078e+02\n",
      "  4.60000000e+01 0.00000000e+00]\n",
      " [4.10000000e+01 0.00000000e+00 0.00000000e+00 ... 1.16709606e+04\n",
      "  6.80000000e+01 0.00000000e+00]\n",
      " ...\n",
      " [3.53827322e+01 0.00000000e+00 1.25702923e-01 ... 1.86861756e+02\n",
      "  5.72401591e+01 0.00000000e+00]\n",
      " [4.56421625e+01 0.00000000e+00 0.00000000e+00 ... 3.46258254e+03\n",
      "  4.57753146e+01 0.00000000e+00]\n",
      " [3.01673775e+01 0.00000000e+00 6.82269453e-01 ... 1.16709606e+04\n",
      "  5.34581556e+01 0.00000000e+00]] [0. 0. 0. ... 1. 1. 1.] (15096, 166) (15096,)\n"
     ]
    },
    {
     "name": "stderr",
     "output_type": "stream",
     "text": [
      "C:\\Users\\EBM_IT_01\\Anaconda3\\lib\\site-packages\\sklearn\\utils\\validation.py:578: DataConversionWarning: A column-vector y was passed when a 1d array was expected. Please change the shape of y to (n_samples, ), for example using ravel().\n",
      "  y = column_or_1d(y, warn=True)\n"
     ]
    }
   ],
   "source": [
    "from imblearn.over_sampling import SMOTE\n",
    "# smote = SMOTE(ratio='minority')\n",
    "sm = SMOTE(random_state=42)\n",
    "# x_sm, y_sm = sm.fit_sample(x_train, y_train)\n",
    "# x_sm, y_sm = x_train, y_train\n",
    "x_sm, y_sm = sm.fit_sample(x_train, y_train)\n",
    "print(x_sm,y_sm,x_sm.shape,y_sm.shape)"
   ]
  },
  {
   "cell_type": "code",
   "execution_count": 101,
   "metadata": {},
   "outputs": [
    {
     "data": {
      "text/plain": [
       "137"
      ]
     },
     "execution_count": 101,
     "metadata": {},
     "output_type": "execute_result"
    }
   ],
   "source": [
    "x_sm.shape[1]"
   ]
  },
  {
   "cell_type": "code",
   "execution_count": 25,
   "metadata": {},
   "outputs": [],
   "source": [
    "import os\n",
    "import numpy as np\n",
    "import datetime\n",
    "\n",
    "import scipy.stats as st\n",
    "\n",
    "from sklearn.svm import SVC\n",
    "from sklearn.linear_model import LogisticRegression\n",
    "from sklearn.neighbors import KNeighborsClassifier\n",
    "from sklearn.ensemble import RandomForestClassifier, AdaBoostClassifier\n",
    "from sklearn.ensemble import ExtraTreesClassifier, VotingClassifier\n",
    "from sklearn.model_selection import RandomizedSearchCV\n",
    "from sklearn.metrics import confusion_matrix, classification_report\n",
    "from sklearn.preprocessing import LabelBinarizer\n",
    "from xgboost import XGBClassifier\n",
    "from sklearn.externals import joblib\n",
    "\n",
    "n_jobs = -1\n",
    "n_iter = 20\n",
    "cv = 5\n",
    "seed=42\n",
    "n_features= x_sm.shape[1]"
   ]
  },
  {
   "cell_type": "code",
   "execution_count": 27,
   "metadata": {},
   "outputs": [
    {
     "name": "stdout",
     "output_type": "stream",
     "text": [
      "0.012121212121212121 0.10460251046025106\n"
     ]
    },
    {
     "name": "stderr",
     "output_type": "stream",
     "text": [
      "C:\\Users\\EBM_IT_01\\Anaconda3\\lib\\site-packages\\sklearn\\preprocessing\\label.py:151: DeprecationWarning: The truth value of an empty array is ambiguous. Returning False, but in future this will result in an error. Use `array.size > 0` to check that an array is not empty.\n",
      "  if diff:\n",
      "C:\\Users\\EBM_IT_01\\Anaconda3\\lib\\site-packages\\sklearn\\preprocessing\\label.py:151: DeprecationWarning: The truth value of an empty array is ambiguous. Returning False, but in future this will result in an error. Use `array.size > 0` to check that an array is not empty.\n",
      "  if diff:\n"
     ]
    }
   ],
   "source": [
    "# from sklearn.feature_extraction import DictVectorizer\n",
    "# v = DictVectorizer(sparse=False)\n",
    "# d = [{'height': 1, 'length': 0, 'width': 1},{'height': 2, 'length': 1, 'width': 0},{'height': 1, 'length': 3, 'width': 2}]\n",
    "# v.fit_transform(d)\n",
    "from sklearn.metrics import f1_score , precision_score , recall_score\n",
    "\n",
    "xgb.fit(x_sm, y_sm)\n",
    "y_pre = xgb.predict(x_val)\n",
    "f1_1  = f1_score(y_val, y_pre, average='binary')\n",
    "y_pre_2 = xgb.predict(x_train)\n",
    "f1_2  = f1_score(y_train, y_pre_2, average='binary')\n",
    "print(f1_1,f1_2)"
   ]
  },
  {
   "cell_type": "code",
   "execution_count": 17,
   "metadata": {},
   "outputs": [
    {
     "name": "stderr",
     "output_type": "stream",
     "text": [
      "C:\\Users\\EBM_IT_01\\Anaconda3\\lib\\site-packages\\sklearn\\preprocessing\\label.py:151: DeprecationWarning: The truth value of an empty array is ambiguous. Returning False, but in future this will result in an error. Use `array.size > 0` to check that an array is not empty.\n",
      "  if diff:\n"
     ]
    },
    {
     "data": {
      "text/plain": [
       "array([0., 0., 0., ..., 0., 0., 0.])"
      ]
     },
     "execution_count": 17,
     "metadata": {},
     "output_type": "execute_result"
    }
   ],
   "source": [
    "xgb.predict(x_val)"
   ]
  },
  {
   "cell_type": "code",
   "execution_count": 26,
   "metadata": {},
   "outputs": [],
   "source": [
    "estimator = XGBClassifier(nthreads=-1)\n",
    "objective = 'binary:logistic'\n",
    "\n",
    "# Parameter for XGBoost\n",
    "params = {  \n",
    "    \"n_estimators\": st.randint(3, 40),\n",
    "    \"max_depth\": st.randint(3, 30),\n",
    "    \"learning_rate\": st.uniform(0.05, 0.4),\n",
    "    \"colsample_bytree\": st.beta(10, 1),\n",
    "    \"subsample\": st.beta(10, 1),\n",
    "    \"gamma\": st.uniform(0, 10),\n",
    "    'objective': [objective],\n",
    "    'scale_pos_weight': st.randint(0, 2),\n",
    "    \"min_child_weight\": st.expon(0, 50),\n",
    "    \"seed\": [seed],\n",
    "}\n",
    "xgb = RandomizedSearchCV(estimator, params, cv=cv,n_jobs=n_jobs, n_iter=n_iter) \n"
   ]
  },
  {
   "cell_type": "code",
   "execution_count": 105,
   "metadata": {},
   "outputs": [],
   "source": [
    "estimator = LogisticRegression()\n",
    "# Parameter for LogisticRegression\n",
    "params = {\n",
    "    \"penalty\": ['l2'],\n",
    "    \"C\": [0.001, 0.01, 0.1, 1, 10],\n",
    "    \"tol\": [1e-4, 1e-3, 1e-2, 1e-1],\n",
    "    \"solver\": ['newton-cg', 'lbfgs', 'liblinear', 'sag'],\n",
    "    \"max_iter\": st.randint(50, 100),\n",
    "    'random_state': [seed],\n",
    "} \n",
    "log = RandomizedSearchCV(estimator, params, cv=cv,n_jobs=n_jobs, n_iter=n_iter) "
   ]
  },
  {
   "cell_type": "code",
   "execution_count": 106,
   "metadata": {},
   "outputs": [],
   "source": [
    "estimator = KNeighborsClassifier()\n",
    "# Parameter for KNeighborsClassifier\n",
    "params = {\n",
    "    \"n_neighbors\": st.randint(2, 50),\n",
    "    \"weights\": ['uniform', 'distance'],\n",
    "    \"algorithm\": ['ball_tree', 'kd_tree', 'brute'],\n",
    "    \"leaf_size\": st.randint(10, 30),\n",
    "    \"p\": st.randint(1, 2),\n",
    "}\n",
    "knn = RandomizedSearchCV(estimator, params, cv=cv,n_jobs=n_jobs, n_iter=n_iter) "
   ]
  },
  {
   "cell_type": "code",
   "execution_count": 107,
   "metadata": {},
   "outputs": [],
   "source": [
    "estimator = RandomForestClassifier()\n",
    "# Parameter for RandomForestClassifier\n",
    "params = {\n",
    "    \"max_depth\": [3, None],\n",
    "    \"max_features\": st.randint(1, n_features),\n",
    "    \"min_samples_split\": st.randint(2, 10),\n",
    "    \"min_samples_leaf\": st.randint(1, n_features),\n",
    "    \"bootstrap\": [True, False],\n",
    "    \"criterion\": [\"gini\", \"entropy\"],\n",
    "    'random_state': [seed],\n",
    "}\n",
    "rnf = RandomizedSearchCV(estimator, params, cv=cv,n_jobs=n_jobs, n_iter=n_iter) "
   ]
  },
  {
   "cell_type": "code",
   "execution_count": 108,
   "metadata": {},
   "outputs": [],
   "source": [
    "estimator = ExtraTreesClassifier()\n",
    "# Parameter for ExtraTreesClassifier\n",
    "params = {\n",
    "    \"n_estimators\": st.randint(5, 50),\n",
    "    \"max_depth\": [3, None],\n",
    "    \"max_features\": st.randint(1, n_features),\n",
    "    \"min_samples_split\": st.randint(2, 10),\n",
    "    \"min_samples_leaf\": st.randint(1, n_features),\n",
    "    \"bootstrap\": [True],\n",
    "    \"oob_score\": [True],\n",
    "    \"criterion\": [\"gini\", \"entropy\"],\n",
    "    'random_state': [seed],\n",
    "}\n",
    "ext = RandomizedSearchCV(estimator, params, cv=cv,n_jobs=n_jobs, n_iter=n_iter) "
   ]
  },
  {
   "cell_type": "code",
   "execution_count": 109,
   "metadata": {},
   "outputs": [],
   "source": [
    "estimator = AdaBoostClassifier()\n",
    "# Parameter for AdaBoost\n",
    "params = { \n",
    "    'n_estimators':st.randint(10, 100), \n",
    "    'learning_rate':st.beta(10, 1), \n",
    "    'algorithm':['SAMME', 'SAMME.R'],\n",
    "    'random_state': [seed],\n",
    "}\n",
    "ada = RandomizedSearchCV(estimator, params, cv=cv,n_jobs=n_jobs, n_iter=n_iter) "
   ]
  },
  {
   "cell_type": "code",
   "execution_count": 110,
   "metadata": {},
   "outputs": [],
   "source": [
    "estimator = SVC()\n",
    "# Parameter for SVC\n",
    "params = {  \n",
    "    'C':[0.001, 0.01, 0.1, 1, 10], \n",
    "    'degree': st.randint(1, 10),\n",
    "    'shrinking': [True, False],\n",
    "    'probability': [True],\n",
    "    'tol': [1e-3],\n",
    "    'random_state': [seed],\n",
    "}\n",
    "svc = RandomizedSearchCV(estimator, params, cv=cv,n_jobs=n_jobs, n_iter=n_iter) "
   ]
  },
  {
   "cell_type": "code",
   "execution_count": 30,
   "metadata": {},
   "outputs": [
    {
     "name": "stderr",
     "output_type": "stream",
     "text": [
      "D:\\Anaconda3\\lib\\site-packages\\sklearn\\linear_model\\sag.py:326: ConvergenceWarning: The max_iter was reached which means the coef_ did not converge\n",
      "  \"the coef_ did not converge\", ConvergenceWarning)\n"
     ]
    },
    {
     "data": {
      "text/plain": [
       "RandomizedSearchCV(cv=5, error_score='raise',\n",
       "          estimator=SVC(C=1.0, cache_size=200, class_weight=None, coef0=0.0,\n",
       "  decision_function_shape='ovr', degree=3, gamma='auto', kernel='rbf',\n",
       "  max_iter=-1, probability=False, random_state=None, shrinking=True,\n",
       "  tol=0.001, verbose=False),\n",
       "          fit_params=None, iid=True, n_iter=2, n_jobs=2,\n",
       "          param_distributions={'C': [0.001, 0.01, 0.1, 1, 10], 'degree': <scipy.stats._distn_infrastructure.rv_frozen object at 0x00000234CE197AC8>, 'shrinking': [True, False], 'probability': [True], 'tol': [0.001], 'random_state': [42]},\n",
       "          pre_dispatch='2*n_jobs', random_state=None, refit=True,\n",
       "          return_train_score='warn', scoring=None, verbose=0)"
      ]
     },
     "execution_count": 30,
     "metadata": {},
     "output_type": "execute_result"
    }
   ],
   "source": [
    "xgb.fit(X,y)\n",
    "log.fit(X,y)\n",
    "knn.fit(X,y)\n",
    "rnf.fit(X,y)\n",
    "ext.fit(X,y)\n",
    "ada.fit(X,y)\n",
    "svc.fit(X,y)"
   ]
  },
  {
   "cell_type": "code",
   "execution_count": 31,
   "metadata": {},
   "outputs": [
    {
     "name": "stderr",
     "output_type": "stream",
     "text": [
      "D:\\Anaconda3\\lib\\site-packages\\sklearn\\preprocessing\\label.py:151: DeprecationWarning: The truth value of an empty array is ambiguous. Returning False, but in future this will result in an error. Use `array.size > 0` to check that an array is not empty.\n",
      "  if diff:\n"
     ]
    }
   ],
   "source": [
    "re1 = xgb.predict(X)\n",
    "re2 = log.predict(X)\n",
    "re3 = knn.predict(X)\n",
    "re4 = rnf.predict(X)\n",
    "re5 = ext.predict(X)\n",
    "re6 = ada.predict(X)\n",
    "re7 = svc.predict(X)\n"
   ]
  },
  {
   "cell_type": "code",
   "execution_count": 32,
   "metadata": {},
   "outputs": [
    {
     "data": {
      "text/plain": [
       "array([85, 64, 93, ..., 98, 80, 91])"
      ]
     },
     "execution_count": 32,
     "metadata": {},
     "output_type": "execute_result"
    }
   ],
   "source": [
    "re1"
   ]
  },
  {
   "cell_type": "code",
   "execution_count": 34,
   "metadata": {},
   "outputs": [],
   "source": [
    "xx = X"
   ]
  },
  {
   "cell_type": "code",
   "execution_count": 35,
   "metadata": {},
   "outputs": [],
   "source": [
    "re_1 = np.reshape(re1, (re1.shape[0],1))\n",
    "re_2 = np.reshape(re2, (re2.shape[0],1))\n",
    "re_3 = np.reshape(re3, (re3.shape[0],1))\n",
    "re_4 = np.reshape(re4, (re4.shape[0],1))\n",
    "re_5 = np.reshape(re5, (re5.shape[0],1))\n",
    "re_6 = np.reshape(re6, (re6.shape[0],1))\n",
    "re_7 = np.reshape(re7, (re7.shape[0],1))\n",
    "\n",
    "xx = np.concatenate((xx, re_1), axis=1)\n",
    "xx = np.concatenate((xx, re_2), axis=1)\n",
    "xx = np.concatenate((xx, re_3), axis=1)\n",
    "xx = np.concatenate((xx, re_4), axis=1)\n",
    "xx = np.concatenate((xx, re_5), axis=1)\n",
    "xx = np.concatenate((xx, re_6), axis=1)\n",
    "xx = np.concatenate((xx, re_7), axis=1)"
   ]
  },
  {
   "cell_type": "code",
   "execution_count": 37,
   "metadata": {},
   "outputs": [
    {
     "data": {
      "text/plain": [
       "(10000, 17)"
      ]
     },
     "execution_count": 37,
     "metadata": {},
     "output_type": "execute_result"
    }
   ],
   "source": [
    "xx.shape"
   ]
  },
  {
   "cell_type": "code",
   "execution_count": 38,
   "metadata": {},
   "outputs": [],
   "source": [
    "n_jobs = 2\n",
    "n_iter = 10\n",
    "cv = 5\n",
    "seed=42\n",
    "n_features=xx.shape[1]\n",
    "\n",
    "estimator = XGBClassifier(nthreads=-1)\n",
    "objective = 'binary:logistic'\n",
    "\n",
    "# Parameter for XGBoost\n",
    "params = {  \n",
    "    \"n_estimators\": st.randint(3, 40),\n",
    "    \"max_depth\": st.randint(3, 30),\n",
    "    \"learning_rate\": st.uniform(0.05, 0.4),\n",
    "    \"colsample_bytree\": st.beta(10, 1),\n",
    "    \"subsample\": st.beta(10, 1),\n",
    "    \"gamma\": st.uniform(0, 10),\n",
    "    'objective': [objective],\n",
    "    'scale_pos_weight': st.randint(0, 2),\n",
    "    \"min_child_weight\": st.expon(0, 50),\n",
    "    \"seed\": [seed],\n",
    "}\n",
    "xgb2 = RandomizedSearchCV(estimator, params, cv=cv,n_jobs=n_jobs, n_iter=n_iter) \n",
    "\n",
    "estimator = LogisticRegression()\n",
    "# Parameter for LogisticRegression\n",
    "params = {\n",
    "    \"penalty\": ['l2'],\n",
    "    \"C\": [0.001, 0.01, 0.1, 1, 10],\n",
    "    \"tol\": [1e-4, 1e-3, 1e-2, 1e-1],\n",
    "    \"solver\": ['newton-cg', 'lbfgs', 'liblinear', 'sag'],\n",
    "    \"max_iter\": st.randint(50, 100),\n",
    "    'random_state': [seed],\n",
    "} \n",
    "log2 = RandomizedSearchCV(estimator, params, cv=cv,n_jobs=n_jobs, n_iter=n_iter) \n",
    "\n",
    "estimator = RandomForestClassifier()\n",
    "# Parameter for RandomForestClassifier\n",
    "params = {\n",
    "    \"max_depth\": [3, None],\n",
    "    \"max_features\": st.randint(1, n_features),\n",
    "    \"min_samples_split\": st.randint(2, 10),\n",
    "    \"min_samples_leaf\": st.randint(1, n_features),\n",
    "    \"bootstrap\": [True, False],\n",
    "    \"criterion\": [\"gini\", \"entropy\"],\n",
    "    'random_state': [seed],\n",
    "}\n",
    "rnf2 = RandomizedSearchCV(estimator, params, cv=cv,n_jobs=n_jobs, n_iter=n_iter) "
   ]
  },
  {
   "cell_type": "code",
   "execution_count": 39,
   "metadata": {},
   "outputs": [
    {
     "data": {
      "text/plain": [
       "VotingClassifier(estimators=[('xgb2', RandomizedSearchCV(cv=5, error_score='raise',\n",
       "          estimator=XGBClassifier(base_score=0.5, booster='gbtree', colsample_bylevel=1,\n",
       "       colsample_bytree=1, gamma=0, learning_rate=0.1, max_delta_step=0,\n",
       "       max_depth=3, min_child_weight=1, missing=None, n_estimators=100,...obs', random_state=None, refit=True,\n",
       "          return_train_score='warn', scoring=None, verbose=0))],\n",
       "         flatten_transform=None, n_jobs=1, voting='soft', weights=None)"
      ]
     },
     "execution_count": 39,
     "metadata": {},
     "output_type": "execute_result"
    }
   ],
   "source": [
    "vote_list = [('xgb2', xgb2), ('log2', log2), ('rnf2', rnf2)]\n",
    "vote2 = VotingClassifier(estimators=vote_list, voting='soft')\n",
    "vote2.fit(xx, y)"
   ]
  },
  {
   "cell_type": "code",
   "execution_count": 43,
   "metadata": {},
   "outputs": [
    {
     "ename": "AttributeError",
     "evalue": "'VotingClassifier' object has no attribute 'feature_importances_'",
     "output_type": "error",
     "traceback": [
      "\u001b[1;31m---------------------------------------------------------------------------\u001b[0m",
      "\u001b[1;31mAttributeError\u001b[0m                            Traceback (most recent call last)",
      "\u001b[1;32m<ipython-input-43-4303634f7504>\u001b[0m in \u001b[0;36m<module>\u001b[1;34m()\u001b[0m\n\u001b[1;32m----> 1\u001b[1;33m \u001b[0mvote2\u001b[0m\u001b[1;33m.\u001b[0m\u001b[0mfeature_importances_\u001b[0m\u001b[1;33m\u001b[0m\u001b[0m\n\u001b[0m",
      "\u001b[1;31mAttributeError\u001b[0m: 'VotingClassifier' object has no attribute 'feature_importances_'"
     ]
    }
   ],
   "source": [
    "# vote2.feature_importances_"
   ]
  },
  {
   "cell_type": "code",
   "execution_count": 40,
   "metadata": {},
   "outputs": [
    {
     "name": "stderr",
     "output_type": "stream",
     "text": [
      "D:\\Anaconda3\\lib\\site-packages\\sklearn\\preprocessing\\label.py:151: DeprecationWarning: The truth value of an empty array is ambiguous. Returning False, but in future this will result in an error. Use `array.size > 0` to check that an array is not empty.\n",
      "  if diff:\n"
     ]
    },
    {
     "data": {
      "text/plain": [
       "1.0"
      ]
     },
     "execution_count": 40,
     "metadata": {},
     "output_type": "execute_result"
    }
   ],
   "source": [
    "vote2.score(xx, y)"
   ]
  },
  {
   "cell_type": "code",
   "execution_count": 45,
   "metadata": {},
   "outputs": [
    {
     "name": "stderr",
     "output_type": "stream",
     "text": [
      "D:\\Anaconda3\\lib\\site-packages\\sklearn\\preprocessing\\label.py:151: DeprecationWarning: The truth value of an empty array is ambiguous. Returning False, but in future this will result in an error. Use `array.size > 0` to check that an array is not empty.\n",
      "  if diff:\n"
     ]
    },
    {
     "name": "stdout",
     "output_type": "stream",
     "text": [
      "[[  6.46907649   4.25070317  -8.63694437 ...  85.          69.\n",
      "   85.        ]\n",
      " [  6.48856404   9.37957037  10.32791736 ...  64.          69.\n",
      "   64.        ]\n",
      " [  8.37392753 -10.14342267  -3.52753613 ...  93.          69.\n",
      "   93.        ]\n",
      " ...\n",
      " [  7.86551596   6.19525794   4.773955   ...  98.          69.\n",
      "   98.        ]\n",
      " [-10.41156442   1.40054826  -1.97349572 ...  80.          67.\n",
      "   80.        ]\n",
      " [  7.40908901  -7.3908382   10.78350645 ...  91.          69.\n",
      "   91.        ]] (10000, 31)\n"
     ]
    }
   ],
   "source": [
    "# predict process\n",
    "re1 = xgb.predict(X)\n",
    "re2 = log.predict(X)\n",
    "re3 = knn.predict(X)\n",
    "re4 = rnf.predict(X)\n",
    "re5 = ext.predict(X)\n",
    "re6 = ada.predict(X)\n",
    "re7 = svc.predict(X)\n",
    "\n",
    "re_1 = np.reshape(re1, (re1.shape[0],1))\n",
    "re_2 = np.reshape(re2, (re2.shape[0],1))\n",
    "re_3 = np.reshape(re3, (re3.shape[0],1))\n",
    "re_4 = np.reshape(re4, (re4.shape[0],1))\n",
    "re_5 = np.reshape(re5, (re5.shape[0],1))\n",
    "re_6 = np.reshape(re6, (re6.shape[0],1))\n",
    "re_7 = np.reshape(re7, (re7.shape[0],1))\n",
    "\n",
    "xx = np.concatenate((xx, re_1), axis=1)\n",
    "xx = np.concatenate((xx, re_2), axis=1)\n",
    "xx = np.concatenate((xx, re_3), axis=1)\n",
    "xx = np.concatenate((xx, re_4), axis=1)\n",
    "xx = np.concatenate((xx, re_5), axis=1)\n",
    "xx = np.concatenate((xx, re_6), axis=1)\n",
    "xx = np.concatenate((xx, re_7), axis=1)\n",
    "print(xx,xx.shape)"
   ]
  },
  {
   "cell_type": "code",
   "execution_count": null,
   "metadata": {},
   "outputs": [],
   "source": [
    "y_final = vote2.predect()"
   ]
  },
  {
   "cell_type": "code",
   "execution_count": null,
   "metadata": {},
   "outputs": [],
   "source": [
    "f1_score(y_val, y_final, average='macro')"
   ]
  },
  {
   "cell_type": "code",
   "execution_count": null,
   "metadata": {},
   "outputs": [],
   "source": []
  },
  {
   "cell_type": "code",
   "execution_count": null,
   "metadata": {},
   "outputs": [
    {
     "name": "stderr",
     "output_type": "stream",
     "text": [
      "D:\\Anaconda3\\lib\\site-packages\\sklearn\\utils\\optimize.py:203: ConvergenceWarning: newton-cg failed to converge. Increase the number of iterations.\n",
      "  \"number of iterations.\", ConvergenceWarning)\n"
     ]
    }
   ],
   "source": [
    "vote_list = [('xgb', xgb), ('log', log), ('knn', knn), ('rnf', rnf), ('ext', ext), ('ada', ada), ('svc', svc)]\n",
    "vote = VotingClassifier(estimators=vote_list, voting='soft')\n",
    "vote.fit(x_sm, y_sm)\n",
    "y_pre = vote.predict(x_sm)\n",
    "f1_score(y_sm, y_pre, average='binary')"
   ]
  },
  {
   "cell_type": "code",
   "execution_count": 56,
   "metadata": {},
   "outputs": [
    {
     "name": "stderr",
     "output_type": "stream",
     "text": [
      "D:\\Anaconda3\\lib\\site-packages\\sklearn\\preprocessing\\label.py:151: DeprecationWarning: The truth value of an empty array is ambiguous. Returning False, but in future this will result in an error. Use `array.size > 0` to check that an array is not empty.\n",
      "  if diff:\n"
     ]
    },
    {
     "data": {
      "text/plain": [
       "0.9428171641791044"
      ]
     },
     "execution_count": 56,
     "metadata": {},
     "output_type": "execute_result"
    }
   ],
   "source": [
    "vote.score(x, y)"
   ]
  },
  {
   "cell_type": "code",
   "execution_count": 58,
   "metadata": {},
   "outputs": [
    {
     "name": "stderr",
     "output_type": "stream",
     "text": [
      "D:\\Anaconda3\\lib\\site-packages\\sklearn\\preprocessing\\label.py:151: DeprecationWarning: The truth value of an empty array is ambiguous. Returning False, but in future this will result in an error. Use `array.size > 0` to check that an array is not empty.\n",
      "  if diff:\n"
     ]
    }
   ],
   "source": []
  },
  {
   "cell_type": "code",
   "execution_count": 19,
   "metadata": {},
   "outputs": [
    {
     "data": {
      "text/plain": [
       "array([85, 64, 93, ..., 98, 80, 91])"
      ]
     },
     "execution_count": 19,
     "metadata": {},
     "output_type": "execute_result"
    }
   ],
   "source": [
    "y_pre"
   ]
  },
  {
   "cell_type": "code",
   "execution_count": 68,
   "metadata": {},
   "outputs": [],
   "source": [
    "from sklearn.metrics import f1_score , precision_score , recall_score"
   ]
  },
  {
   "cell_type": "code",
   "execution_count": 63,
   "metadata": {},
   "outputs": [
    {
     "data": {
      "text/plain": [
       "0.0032520325203252032"
      ]
     },
     "execution_count": 63,
     "metadata": {},
     "output_type": "execute_result"
    }
   ],
   "source": [
    "f1_score(y, y_pre, average='binary')"
   ]
  },
  {
   "cell_type": "code",
   "execution_count": 73,
   "metadata": {},
   "outputs": [
    {
     "data": {
      "text/plain": [
       "1.0"
      ]
     },
     "execution_count": 73,
     "metadata": {},
     "output_type": "execute_result"
    }
   ],
   "source": [
    "precision_score(y, y_pre,pos_label=1, average='binary')"
   ]
  },
  {
   "cell_type": "code",
   "execution_count": 72,
   "metadata": {},
   "outputs": [
    {
     "data": {
      "text/plain": [
       "array([1.        , 0.00162866])"
      ]
     },
     "execution_count": 72,
     "metadata": {},
     "output_type": "execute_result"
    }
   ],
   "source": [
    "recall_score(y, y_pre,pos_label=1, average=None)"
   ]
  },
  {
   "cell_type": "code",
   "execution_count": 62,
   "metadata": {},
   "outputs": [
    {
     "name": "stdout",
     "output_type": "stream",
     "text": [
      "[[0.]\n",
      " [0.]\n",
      " [0.]\n",
      " ...\n",
      " [0.]\n",
      " [0.]\n",
      " [0.]] [0. 0. 0. ... 0. 0. 0.]\n"
     ]
    }
   ],
   "source": [
    "print(y,y_pre)"
   ]
  },
  {
   "cell_type": "code",
   "execution_count": 76,
   "metadata": {},
   "outputs": [
    {
     "data": {
      "text/plain": [
       "1.0"
      ]
     },
     "execution_count": 76,
     "metadata": {},
     "output_type": "execute_result"
    }
   ],
   "source": [
    "y_pre.sum()"
   ]
  },
  {
   "cell_type": "code",
   "execution_count": 57,
   "metadata": {},
   "outputs": [
    {
     "data": {
      "text/plain": [
       "['vote.pkl']"
      ]
     },
     "execution_count": 57,
     "metadata": {},
     "output_type": "execute_result"
    }
   ],
   "source": [
    "joblib.dump(vote, 'vote.pkl') \n"
   ]
  },
  {
   "cell_type": "code",
   "execution_count": 25,
   "metadata": {},
   "outputs": [],
   "source": [
    "vote2 = joblib.load('vote.pkl') "
   ]
  },
  {
   "cell_type": "code",
   "execution_count": 26,
   "metadata": {},
   "outputs": [
    {
     "name": "stderr",
     "output_type": "stream",
     "text": [
      "D:\\Anaconda3\\lib\\site-packages\\sklearn\\preprocessing\\label.py:151: DeprecationWarning: The truth value of an empty array is ambiguous. Returning False, but in future this will result in an error. Use `array.size > 0` to check that an array is not empty.\n",
      "  if diff:\n"
     ]
    },
    {
     "data": {
      "text/plain": [
       "1.0"
      ]
     },
     "execution_count": 26,
     "metadata": {},
     "output_type": "execute_result"
    }
   ],
   "source": [
    "vote2.score(X, y)"
   ]
  },
  {
   "cell_type": "code",
   "execution_count": 27,
   "metadata": {},
   "outputs": [
    {
     "data": {
      "text/plain": [
       "VotingClassifier(estimators=[('xgb', RandomizedSearchCV(cv=5, error_score='raise',\n",
       "          estimator=XGBClassifier(base_score=0.5, booster='gbtree', colsample_bylevel=1,\n",
       "       colsample_bytree=1, gamma=0, learning_rate=0.1, max_delta_step=0,\n",
       "       max_depth=3, min_child_weight=1, missing=nan, n_estimators=100,\n",
       " ...obs', random_state=None, refit=True,\n",
       "          return_train_score='warn', scoring=None, verbose=0))],\n",
       "         flatten_transform=None, n_jobs=1, voting='soft', weights=None)"
      ]
     },
     "execution_count": 27,
     "metadata": {},
     "output_type": "execute_result"
    }
   ],
   "source": [
    "vote2"
   ]
  },
  {
   "cell_type": "code",
   "execution_count": null,
   "metadata": {},
   "outputs": [],
   "source": []
  }
 ],
 "metadata": {
  "kernelspec": {
   "display_name": "Python 3",
   "language": "python",
   "name": "python3"
  },
  "language_info": {
   "codemirror_mode": {
    "name": "ipython",
    "version": 3
   },
   "file_extension": ".py",
   "mimetype": "text/x-python",
   "name": "python",
   "nbconvert_exporter": "python",
   "pygments_lexer": "ipython3",
   "version": "3.6.5"
  }
 },
 "nbformat": 4,
 "nbformat_minor": 2
}
