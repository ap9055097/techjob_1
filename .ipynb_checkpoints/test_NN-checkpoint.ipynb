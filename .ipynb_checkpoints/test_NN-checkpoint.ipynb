{
 "cells": [
  {
   "cell_type": "code",
   "execution_count": 1,
   "metadata": {},
   "outputs": [],
   "source": [
    "import pandas as pd\n",
    "data = pd.read_csv('IsusV3.csv', delimiter = ',').reset_index(drop=True)\n",
    "train = pd.read_csv('train.csv', delimiter = ',').reset_index(drop=True)\n",
    "test = pd.read_csv('test.csv', delimiter = ',').reset_index(drop=True)\n",
    "\n",
    "data1 = data.drop(['Target'], axis=1).fillna(0)\n",
    "# data1 = data1.values\n",
    "y = data[['Target']].values\n",
    "data1.shape\n",
    "# y\n",
    "x_train_ = train.drop(['Target'], axis=1).fillna(0)\n",
    "y_train = train[['Target']].values\n",
    "\n",
    "x_test_ = test.drop(['Target'], axis=1).fillna(0)\n",
    "y_test = test[['Target']].values\n",
    "x1 = pd.concat([x_train_, x_test_])\n",
    "\n",
    "x = data1.to_dict('records')\n",
    "x_train = x_train_.to_dict('records')\n",
    "# y_train = y_train_.to_dict('records')\n",
    "\n",
    "x_test = x_test_.to_dict('records')\n",
    "# y_test = y_test_.to_dict('records')"
   ]
  },
  {
   "cell_type": "code",
   "execution_count": 2,
   "metadata": {},
   "outputs": [],
   "source": [
    "from sklearn.feature_extraction import DictVectorizer\n",
    "from sklearn.preprocessing import LabelEncoder\n",
    "import numpy as np\n",
    "\n",
    "vec = DictVectorizer()\n",
    "x = vec.fit_transform(x).toarray()\n",
    "\n",
    "x_train = vec.transform(x_train).toarray()\n",
    "x_test = vec.transform(x_test).toarray()"
   ]
  },
  {
   "cell_type": "code",
   "execution_count": 3,
   "metadata": {},
   "outputs": [
    {
     "name": "stderr",
     "output_type": "stream",
     "text": [
      "C:\\Users\\EBM_IT_01\\Anaconda3\\lib\\site-packages\\sklearn\\utils\\validation.py:578: DataConversionWarning: A column-vector y was passed when a 1d array was expected. Please change the shape of y to (n_samples, ), for example using ravel().\n",
      "  y = column_or_1d(y, warn=True)\n"
     ]
    },
    {
     "name": "stdout",
     "output_type": "stream",
     "text": [
      "(8576, 172) (8576, 1) (2144, 172) (2144, 1) (16093, 172)\n",
      "(16093, 172) (16093,)\n"
     ]
    }
   ],
   "source": [
    "from imblearn.over_sampling import SMOTE, ADASYN\n",
    "# smote = SMOTE(ratio='minority')\n",
    "# sm = SMOTE(random_state=42)\n",
    "sm = ADASYN(random_state=42)\n",
    "x_sm, y_sm = sm.fit_sample(x_train, y_train)\n",
    "print(x_train.shape,y_train.shape,x_test.shape,y_test.shape,x_sm.shape)\n",
    "print(x_sm.shape,y_sm.shape)\n",
    "x_val = x_test\n",
    "y_val = y_test"
   ]
  },
  {
   "cell_type": "code",
   "execution_count": null,
   "metadata": {},
   "outputs": [],
   "source": []
  },
  {
   "cell_type": "code",
   "execution_count": 4,
   "metadata": {},
   "outputs": [
    {
     "name": "stderr",
     "output_type": "stream",
     "text": [
      "C:\\Users\\EBM_IT_01\\Anaconda3\\lib\\site-packages\\h5py\\__init__.py:36: FutureWarning: Conversion of the second argument of issubdtype from `float` to `np.floating` is deprecated. In future, it will be treated as `np.float64 == np.dtype(float).type`.\n",
      "  from ._conv import register_converters as _register_converters\n",
      "Using TensorFlow backend.\n"
     ]
    }
   ],
   "source": [
    "from keras.models import Model\n",
    "from keras.layers import Input, Dense,Embedding,GRU,Dropout,Conv1D,MaxPooling1D,Flatten,concatenate,Add,Reshape,BatchNormalization\n",
    "from keras.optimizers import Adam , RMSprop\n",
    "import keras.utils\n",
    "\n",
    "def gru_model():\n",
    "  input = Input(shape=(172,))\n",
    "  x = Dropout(0.10)(input)\n",
    "  x = Dense(30, activation='relu')(x)\n",
    "  x = Dropout(0.10)(x)\n",
    "  for i in range(0, 50):\n",
    "      x = Dense(10, activation='relu')(x)\n",
    "      x = Dropout(0.10)(x)\n",
    "#   x = Dense(10, activation='relu')(x)\n",
    "#   x = Dropout(0.10)(x)\n",
    "#   x = Dense(10, activation='relu')(x)\n",
    "#   x = Dropout(0.10)(x)\n",
    "  out = Dense(1, activation='sigmoid')(x)\n",
    "  \n",
    "\n",
    "  model = Model(inputs=[input], outputs=out)\n",
    "  model.compile(optimizer='adam',\n",
    "                loss='binary_crossentropy',\n",
    "                metrics=['accuracy'])\n",
    "  return model"
   ]
  },
  {
   "cell_type": "code",
   "execution_count": 5,
   "metadata": {},
   "outputs": [
    {
     "name": "stdout",
     "output_type": "stream",
     "text": [
      "start training GRU\n",
      "train with 20 epochs and 28 batch size\n",
      "Train on 16093 samples, validate on 2144 samples\n",
      "Epoch 1/20\n",
      "16093/16093 [==============================] - 9s 544us/step - loss: 0.6932 - acc: 0.4989 - val_loss: 0.6892 - val_acc: 0.9459\n",
      "Epoch 2/20\n",
      "16093/16093 [==============================] - 3s 185us/step - loss: 0.6932 - acc: 0.5020 - val_loss: 0.6904 - val_acc: 0.9459\n",
      "Epoch 3/20\n",
      "16093/16093 [==============================] - 3s 187us/step - loss: 0.6932 - acc: 0.4989 - val_loss: 0.6876 - val_acc: 0.9459\n",
      "Epoch 4/20\n",
      "16093/16093 [==============================] - 3s 187us/step - loss: 0.6932 - acc: 0.4998 - val_loss: 0.6887 - val_acc: 0.9459\n",
      "Epoch 5/20\n",
      "16093/16093 [==============================] - 3s 184us/step - loss: 0.6932 - acc: 0.5000 - val_loss: 0.6902 - val_acc: 0.9459\n",
      "Epoch 6/20\n",
      "16093/16093 [==============================] - 3s 212us/step - loss: 0.6932 - acc: 0.5028 - val_loss: 0.6861 - val_acc: 0.9459\n",
      "Epoch 7/20\n",
      "16093/16093 [==============================] - 4s 226us/step - loss: 0.6932 - acc: 0.5020 - val_loss: 0.6878 - val_acc: 0.9459\n",
      "Epoch 8/20\n",
      "16093/16093 [==============================] - 4s 228us/step - loss: 0.6932 - acc: 0.5003 - val_loss: 0.6858 - val_acc: 0.9459\n",
      "Epoch 9/20\n",
      "16093/16093 [==============================] - 4s 229us/step - loss: 0.6932 - acc: 0.5020 - val_loss: 0.6905 - val_acc: 0.9459\n",
      "Epoch 10/20\n",
      "16093/16093 [==============================] - 4s 229us/step - loss: 0.6932 - acc: 0.4993 - val_loss: 0.6876 - val_acc: 0.9459\n",
      "Epoch 11/20\n",
      "16093/16093 [==============================] - 4s 226us/step - loss: 0.6932 - acc: 0.5020 - val_loss: 0.6910 - val_acc: 0.9459\n",
      "Epoch 12/20\n",
      "16093/16093 [==============================] - 4s 234us/step - loss: 0.6932 - acc: 0.4975 - val_loss: 0.6872 - val_acc: 0.9459\n",
      "Epoch 13/20\n",
      "16093/16093 [==============================] - 4s 224us/step - loss: 0.6932 - acc: 0.4967 - val_loss: 0.6890 - val_acc: 0.9459\n",
      "Epoch 14/20\n",
      "16093/16093 [==============================] - 4s 228us/step - loss: 0.6932 - acc: 0.4993 - val_loss: 0.6861 - val_acc: 0.9459\n",
      "Epoch 15/20\n",
      "16093/16093 [==============================] - 3s 217us/step - loss: 0.6932 - acc: 0.5020 - val_loss: 0.6890 - val_acc: 0.9459\n",
      "Epoch 16/20\n",
      "16093/16093 [==============================] - 4s 222us/step - loss: 0.6932 - acc: 0.4980 - val_loss: 0.6881 - val_acc: 0.9459\n",
      "Epoch 17/20\n",
      "16093/16093 [==============================] - 4s 224us/step - loss: 0.6932 - acc: 0.5010 - val_loss: 0.6895 - val_acc: 0.9459\n",
      "Epoch 18/20\n",
      "16093/16093 [==============================] - 3s 216us/step - loss: 0.6932 - acc: 0.4998 - val_loss: 0.6883 - val_acc: 0.9459\n",
      "Epoch 19/20\n",
      "16093/16093 [==============================] - 3s 216us/step - loss: 0.6932 - acc: 0.5002 - val_loss: 0.6883 - val_acc: 0.9459\n",
      "Epoch 20/20\n",
      "16093/16093 [==============================] - 4s 229us/step - loss: 0.6932 - acc: 0.4976 - val_loss: 0.6884 - val_acc: 0.9459\n"
     ]
    }
   ],
   "source": [
    "from keras.callbacks import ModelCheckpoint, TensorBoard\n",
    "from keras import backend as K\n",
    "K.clear_session()\n",
    "weight_path_feedforward_nn='recomment.h5'\n",
    "callbacks_list_feedforward_nn = [\n",
    "#         TensorBoard(log_dir='/data/Graph/ff', histogram_freq=1, write_graph=True, write_grads=False),\n",
    "        ModelCheckpoint(\n",
    "            weight_path_feedforward_nn,\n",
    "            save_best_only=True,\n",
    "            save_weights_only=True,\n",
    "            monitor='val_loss',\n",
    "            mode='min',\n",
    "            verbose=1\n",
    "        )\n",
    "  ]\n",
    "print('start training GRU')\n",
    "model_ = gru_model()\n",
    "verbose = 1\n",
    "train_params = [(20 ,28)]\n",
    "for (epochs, batch_size) in train_params:\n",
    "  print(\"train with {} epochs and {} batch size\".format(epochs, batch_size))\n",
    "  model_.fit(x_sm, y_sm, epochs=epochs, batch_size=batch_size, verbose=verbose,\n",
    "#                            callbacks=callbacks_list_feedforward_nn,\n",
    "                           validation_data=(x_test, y_test))"
   ]
  },
  {
   "cell_type": "code",
   "execution_count": 9,
   "metadata": {},
   "outputs": [
    {
     "data": {
      "text/plain": [
       "array([[0.49731335],\n",
       "       [0.49731335],\n",
       "       [0.49731335],\n",
       "       ...,\n",
       "       [0.49731335],\n",
       "       [0.49731335],\n",
       "       [0.49731335]], dtype=float32)"
      ]
     },
     "execution_count": 9,
     "metadata": {},
     "output_type": "execute_result"
    }
   ],
   "source": [
    "model_.predict(x_test)"
   ]
  },
  {
   "cell_type": "code",
   "execution_count": 10,
   "metadata": {},
   "outputs": [
    {
     "name": "stderr",
     "output_type": "stream",
     "text": [
      "C:\\Users\\EBM_IT_01\\Anaconda3\\lib\\site-packages\\sklearn\\metrics\\classification.py:1135: UndefinedMetricWarning: F-score is ill-defined and being set to 0.0 due to no predicted samples.\n",
      "  'precision', 'predicted', average, warn_for)\n"
     ]
    },
    {
     "name": "stdout",
     "output_type": "stream",
     "text": [
      "0.0 0.0\n",
      "             precision    recall  f1-score   support\n",
      "\n",
      "        0.0       0.95      1.00      0.97      2028\n",
      "        1.0       0.00      0.00      0.00       116\n",
      "\n",
      "avg / total       0.89      0.95      0.92      2144\n",
      "\n"
     ]
    },
    {
     "name": "stderr",
     "output_type": "stream",
     "text": [
      "C:\\Users\\EBM_IT_01\\Anaconda3\\lib\\site-packages\\sklearn\\metrics\\classification.py:1135: UndefinedMetricWarning: Precision and F-score are ill-defined and being set to 0.0 in labels with no predicted samples.\n",
      "  'precision', 'predicted', average, warn_for)\n"
     ]
    }
   ],
   "source": [
    "from sklearn.metrics import f1_score , precision_score , recall_score , accuracy_score , roc_curve , auc , classification_report\n",
    "# y_pre = bst.predict(dt, ntree_limit=bst.best_ntree_limit)\n",
    "threshold = 0.8\n",
    "# treee = bst.best_ntree_limit\n",
    "# treee = 19\n",
    "y_pre = model_.predict(x_test)\n",
    "y_pre  = y_pre > threshold\n",
    "y_pre = y_pre.astype(int) \n",
    "f1_1  = f1_score(y_test, y_pre, average='binary')\n",
    "\n",
    "\n",
    "# y_pre_2 = bst.predict(dtrain, ntree_limit=bst.best_ntree_limit)\n",
    "y_pre_2 = model_.predict(x_train)\n",
    "y_pre_2  = y_pre_2 > threshold\n",
    "y_pre_2 = y_pre_2.astype(int) \n",
    "f1_2  = f1_score(y_train, y_pre_2, average='binary')\n",
    "print(f1_1,f1_2)\n",
    "print(classification_report(y_test, y_pre))"
   ]
  },
  {
   "cell_type": "code",
   "execution_count": null,
   "metadata": {},
   "outputs": [],
   "source": []
  },
  {
   "cell_type": "code",
   "execution_count": null,
   "metadata": {},
   "outputs": [],
   "source": []
  }
 ],
 "metadata": {
  "kernelspec": {
   "display_name": "Python 3",
   "language": "python",
   "name": "python3"
  },
  "language_info": {
   "codemirror_mode": {
    "name": "ipython",
    "version": 3
   },
   "file_extension": ".py",
   "mimetype": "text/x-python",
   "name": "python",
   "nbconvert_exporter": "python",
   "pygments_lexer": "ipython3",
   "version": "3.6.5"
  }
 },
 "nbformat": 4,
 "nbformat_minor": 2
}
